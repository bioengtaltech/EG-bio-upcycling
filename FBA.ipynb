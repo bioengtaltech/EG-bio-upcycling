{
 "cells": [
  {
   "cell_type": "code",
   "execution_count": 1,
   "metadata": {
    "scrolled": true
   },
   "outputs": [
    {
     "name": "stdout",
     "output_type": "stream",
     "text": [
      "Requirement already satisfied: cobra in /Users/alinarekena/Documents/miniconda3/envs/jupyter-env/lib/python3.11/site-packages (0.29.1)\n",
      "Requirement already satisfied: appdirs~=1.4 in /Users/alinarekena/Documents/miniconda3/envs/jupyter-env/lib/python3.11/site-packages (from cobra) (1.4.4)\n",
      "Requirement already satisfied: depinfo~=2.2 in /Users/alinarekena/Documents/miniconda3/envs/jupyter-env/lib/python3.11/site-packages (from cobra) (2.2.0)\n",
      "Requirement already satisfied: diskcache~=5.0 in /Users/alinarekena/Documents/miniconda3/envs/jupyter-env/lib/python3.11/site-packages (from cobra) (5.6.3)\n",
      "Requirement already satisfied: future in /Users/alinarekena/Documents/miniconda3/envs/jupyter-env/lib/python3.11/site-packages (from cobra) (1.0.0)\n",
      "Requirement already satisfied: httpx~=0.24 in /Users/alinarekena/Documents/miniconda3/envs/jupyter-env/lib/python3.11/site-packages (from cobra) (0.28.1)\n",
      "Requirement already satisfied: importlib-resources in /Users/alinarekena/Documents/miniconda3/envs/jupyter-env/lib/python3.11/site-packages (from cobra) (6.5.2)\n",
      "Requirement already satisfied: numpy>=1.13 in /Users/alinarekena/Documents/miniconda3/envs/jupyter-env/lib/python3.11/site-packages (from cobra) (2.2.4)\n",
      "Requirement already satisfied: optlang~=1.8 in /Users/alinarekena/Documents/miniconda3/envs/jupyter-env/lib/python3.11/site-packages (from cobra) (1.8.3)\n",
      "Requirement already satisfied: pandas<3.0,>=1.0 in /Users/alinarekena/Documents/miniconda3/envs/jupyter-env/lib/python3.11/site-packages (from cobra) (2.2.3)\n",
      "Requirement already satisfied: pydantic>=1.6 in /Users/alinarekena/Documents/miniconda3/envs/jupyter-env/lib/python3.11/site-packages (from cobra) (2.11.1)\n",
      "Requirement already satisfied: python-libsbml~=5.19 in /Users/alinarekena/Documents/miniconda3/envs/jupyter-env/lib/python3.11/site-packages (from cobra) (5.20.4)\n",
      "Requirement already satisfied: rich>=8.0 in /Users/alinarekena/Documents/miniconda3/envs/jupyter-env/lib/python3.11/site-packages (from cobra) (14.0.0)\n",
      "Requirement already satisfied: ruamel.yaml~=0.16 in /Users/alinarekena/Documents/miniconda3/envs/jupyter-env/lib/python3.11/site-packages (from cobra) (0.18.10)\n",
      "Requirement already satisfied: swiglpk in /Users/alinarekena/Documents/miniconda3/envs/jupyter-env/lib/python3.11/site-packages (from cobra) (5.0.12)\n",
      "Requirement already satisfied: anyio in /Users/alinarekena/Documents/miniconda3/envs/jupyter-env/lib/python3.11/site-packages (from httpx~=0.24->cobra) (4.9.0)\n",
      "Requirement already satisfied: certifi in /Users/alinarekena/Documents/miniconda3/envs/jupyter-env/lib/python3.11/site-packages (from httpx~=0.24->cobra) (2025.1.31)\n",
      "Requirement already satisfied: httpcore==1.* in /Users/alinarekena/Documents/miniconda3/envs/jupyter-env/lib/python3.11/site-packages (from httpx~=0.24->cobra) (1.0.7)\n",
      "Requirement already satisfied: idna in /Users/alinarekena/Documents/miniconda3/envs/jupyter-env/lib/python3.11/site-packages (from httpx~=0.24->cobra) (3.10)\n",
      "Requirement already satisfied: h11<0.15,>=0.13 in /Users/alinarekena/Documents/miniconda3/envs/jupyter-env/lib/python3.11/site-packages (from httpcore==1.*->httpx~=0.24->cobra) (0.14.0)\n",
      "Requirement already satisfied: sympy>=1.12.0 in /Users/alinarekena/Documents/miniconda3/envs/jupyter-env/lib/python3.11/site-packages (from optlang~=1.8->cobra) (1.13.3)\n",
      "Requirement already satisfied: python-dateutil>=2.8.2 in /Users/alinarekena/Documents/miniconda3/envs/jupyter-env/lib/python3.11/site-packages (from pandas<3.0,>=1.0->cobra) (2.9.0.post0)\n",
      "Requirement already satisfied: pytz>=2020.1 in /Users/alinarekena/Documents/miniconda3/envs/jupyter-env/lib/python3.11/site-packages (from pandas<3.0,>=1.0->cobra) (2025.2)\n",
      "Requirement already satisfied: tzdata>=2022.7 in /Users/alinarekena/Documents/miniconda3/envs/jupyter-env/lib/python3.11/site-packages (from pandas<3.0,>=1.0->cobra) (2025.2)\n",
      "Requirement already satisfied: annotated-types>=0.6.0 in /Users/alinarekena/Documents/miniconda3/envs/jupyter-env/lib/python3.11/site-packages (from pydantic>=1.6->cobra) (0.7.0)\n",
      "Requirement already satisfied: pydantic-core==2.33.0 in /Users/alinarekena/Documents/miniconda3/envs/jupyter-env/lib/python3.11/site-packages (from pydantic>=1.6->cobra) (2.33.0)\n",
      "Requirement already satisfied: typing-extensions>=4.12.2 in /Users/alinarekena/Documents/miniconda3/envs/jupyter-env/lib/python3.11/site-packages (from pydantic>=1.6->cobra) (4.13.0)\n",
      "Requirement already satisfied: typing-inspection>=0.4.0 in /Users/alinarekena/Documents/miniconda3/envs/jupyter-env/lib/python3.11/site-packages (from pydantic>=1.6->cobra) (0.4.0)\n",
      "Requirement already satisfied: markdown-it-py>=2.2.0 in /Users/alinarekena/Documents/miniconda3/envs/jupyter-env/lib/python3.11/site-packages (from rich>=8.0->cobra) (3.0.0)\n",
      "Requirement already satisfied: pygments<3.0.0,>=2.13.0 in /Users/alinarekena/Documents/miniconda3/envs/jupyter-env/lib/python3.11/site-packages (from rich>=8.0->cobra) (2.19.1)\n",
      "Requirement already satisfied: ruamel.yaml.clib>=0.2.7 in /Users/alinarekena/Documents/miniconda3/envs/jupyter-env/lib/python3.11/site-packages (from ruamel.yaml~=0.16->cobra) (0.2.12)\n",
      "Requirement already satisfied: mdurl~=0.1 in /Users/alinarekena/Documents/miniconda3/envs/jupyter-env/lib/python3.11/site-packages (from markdown-it-py>=2.2.0->rich>=8.0->cobra) (0.1.2)\n",
      "Requirement already satisfied: six>=1.5 in /Users/alinarekena/Documents/miniconda3/envs/jupyter-env/lib/python3.11/site-packages (from python-dateutil>=2.8.2->pandas<3.0,>=1.0->cobra) (1.17.0)\n",
      "Requirement already satisfied: mpmath<1.4,>=1.1.0 in /Users/alinarekena/Documents/miniconda3/envs/jupyter-env/lib/python3.11/site-packages (from sympy>=1.12.0->optlang~=1.8->cobra) (1.3.0)\n",
      "Requirement already satisfied: sniffio>=1.1 in /Users/alinarekena/Documents/miniconda3/envs/jupyter-env/lib/python3.11/site-packages (from anyio->httpx~=0.24->cobra) (1.3.1)\n",
      "Note: you may need to restart the kernel to use updated packages.\n"
     ]
    }
   ],
   "source": [
    "pip install cobra"
   ]
  },
  {
   "cell_type": "code",
   "execution_count": 2,
   "metadata": {},
   "outputs": [],
   "source": [
    "import cobra\n",
    "from cobra import Model, Reaction, Metabolite\n",
    "\n",
    "import pandas as pd"
   ]
  },
  {
   "cell_type": "code",
   "execution_count": 3,
   "metadata": {
    "id": "qQ_Y2KSjmRzN"
   },
   "outputs": [
    {
     "name": "stdout",
     "output_type": "stream",
     "text": [
      "Set parameter Username\n",
      "Academic license - for non-commercial use only - expires 2025-11-01\n"
     ]
    },
    {
     "data": {
      "text/html": [
       "\n",
       "        <table>\n",
       "            <tr>\n",
       "                <td><strong>Name</strong></td>\n",
       "                <td>Rt_IFO0880</td>\n",
       "            </tr><tr>\n",
       "                <td><strong>Memory address</strong></td>\n",
       "                <td>120c62150</td>\n",
       "            </tr><tr>\n",
       "                <td><strong>Number of metabolites</strong></td>\n",
       "                <td>2053</td>\n",
       "            </tr><tr>\n",
       "                <td><strong>Number of reactions</strong></td>\n",
       "                <td>2402</td>\n",
       "            </tr><tr>\n",
       "                <td><strong>Number of genes</strong></td>\n",
       "                <td>1142</td>\n",
       "            </tr><tr>\n",
       "                <td><strong>Number of groups</strong></td>\n",
       "                <td>0</td>\n",
       "            </tr><tr>\n",
       "                <td><strong>Objective expression</strong></td>\n",
       "                <td>1.0*BIOMASS_RT - 1.0*BIOMASS_RT_reverse_2b3e0</td>\n",
       "            </tr><tr>\n",
       "                <td><strong>Compartments</strong></td>\n",
       "                <td>c, x, m, e, r, v, n, g, d</td>\n",
       "            </tr>\n",
       "          </table>"
      ],
      "text/plain": [
       "<Model Rt_IFO0880 at 0x120c62150>"
      ]
     },
     "execution_count": 3,
     "metadata": {},
     "output_type": "execute_result"
    }
   ],
   "source": [
    "# Import model\n",
    "model=cobra.io.read_sbml_model('Rt_IFO0880_EG.xml')\n",
    "model"
   ]
  },
  {
   "cell_type": "code",
   "execution_count": 4,
   "metadata": {
    "id": "KsVsTP_60eHu"
   },
   "outputs": [
    {
     "name": "stdout",
     "output_type": "stream",
     "text": [
      "1.0*BIOMASS_RT - 1.0*BIOMASS_RT_reverse_2b3e0\n",
      "max\n"
     ]
    }
   ],
   "source": [
    "# Simulations:\n",
    "\n",
    "# check objective\n",
    "print(model.objective.expression)\n",
    "print(model.objective.direction)\n",
    "\n",
    "# if necessary to change the objective:\n",
    "#model.objective = \"ATPM\" # or any other reaction"
   ]
  },
  {
   "cell_type": "markdown",
   "metadata": {},
   "source": [
    "#### Experimental condition: EG + xylose"
   ]
  },
  {
   "cell_type": "code",
   "execution_count": 5,
   "metadata": {},
   "outputs": [
    {
     "data": {
      "text/html": [
       "\n",
       "        <table>\n",
       "            <tr>\n",
       "                <td><strong>Reaction identifier</strong></td><td>EX_glyclt_e</td>\n",
       "            </tr><tr>\n",
       "                <td><strong>Name</strong></td><td>Glycolate exchange</td>\n",
       "            </tr><tr>\n",
       "                <td><strong>Memory address</strong></td>\n",
       "                <td>0x16a25db10</td>\n",
       "            </tr><tr>\n",
       "                <td><strong>Stoichiometry</strong></td>\n",
       "                <td>\n",
       "                    <p style='text-align:right'>glyclt_e --></p>\n",
       "                    <p style='text-align:right'>Glycolate C2H3O3 --></p>\n",
       "                </td>\n",
       "            </tr><tr>\n",
       "                <td><strong>GPR</strong></td><td></td>\n",
       "            </tr><tr>\n",
       "                <td><strong>Lower bound</strong></td><td>0.23</td>\n",
       "            </tr><tr>\n",
       "                <td><strong>Upper bound</strong></td><td>0.23</td>\n",
       "            </tr>\n",
       "        </table>\n",
       "        "
      ],
      "text/plain": [
       "<Reaction EX_glyclt_e at 0x16a25db10>"
      ]
     },
     "execution_count": 5,
     "metadata": {},
     "output_type": "execute_result"
    }
   ],
   "source": [
    "### Allow glycolate accumulation\n",
    "# constraint glycolate\n",
    "EX_glyclt_e=model.reactions.get_by_id('EX_glyclt_e')\n",
    "EX_glyclt_e.upper_bound=0.23\n",
    "EX_glyclt_e.lower_bound=0.23 # Nlim GA yield on EG is 1.6 mmol/mmol\n",
    "EX_glyclt_e"
   ]
  },
  {
   "cell_type": "code",
   "execution_count": 6,
   "metadata": {
    "id": "oQEw7_4htMvw"
   },
   "outputs": [
    {
     "data": {
      "text/plain": [
       "{'EX_h_e': 999999.0,\n",
       " 'EX_h2o_e': 999999.0,\n",
       " 'EX_nh4_e': 999999.0,\n",
       " 'EX_o2_e': 999999.0,\n",
       " 'EX_pi_e': 999999.0,\n",
       " 'EX_so4_e': 999999.0,\n",
       " 'EX_ca2_e': 999999.0,\n",
       " 'EX_fe2_e': 999999.0,\n",
       " 'EX_fe3_e': 999999.0,\n",
       " 'EX_k_e': 999999.0,\n",
       " 'EX_na1_e': 999999.0,\n",
       " 'EX_xyl__D_e': 1.2,\n",
       " 'EX_mg2_e': 999999.0,\n",
       " 'EX_mn2_e': 999999.0,\n",
       " 'EX_cu2_e': 999999.0,\n",
       " 'EX_zn2_e': 999999.0,\n",
       " 'EX_eg_e': 0.169}"
      ]
     },
     "execution_count": 6,
     "metadata": {},
     "output_type": "execute_result"
    }
   ],
   "source": [
    "### Setting the parameters for the simulation (e.g. medium)\n",
    "\n",
    "# set glucose uptake to 0\n",
    "medium = model.medium\n",
    "medium[\"EX_glc__D_e\"] = 0.0\n",
    "model.medium = medium\n",
    "\n",
    "# set xylose uptake to 1.20 - Nlim (shaker flasks)\n",
    "medium = model.medium\n",
    "medium[\"EX_xyl__D_e\"] = 1.20\n",
    "model.medium = medium\n",
    "\n",
    "# set EG uptake to 0.169 - Nlim\n",
    "medium[\"EX_eg_e\"] = 0.169\n",
    "model.medium = medium\n",
    "\n",
    "model.medium    # check if it worked"
   ]
  },
  {
   "cell_type": "code",
   "execution_count": null,
   "metadata": {},
   "outputs": [],
   "source": [
    "# Check the bounds on GOR1 (glyoxylate reductase)\n",
    "## Block reversibility of NAD-dependent glyoxylate reductase\n",
    "GLYCLTDy=model.reactions.get_by_id('GLYCLTDy')\n",
    "GLYCLTDy.lower_bound=-1000\n",
    "GLYCLTDy.upper_bound=0 # only backward\n",
    "GLYCLTDy\n",
    "\n",
    "# Check the bounds on GOR1 (glyoxylate reductase)\n",
    "## Block mitochondrial NAD-dependent glyoxylate reductase\n",
    "GLYCLTDxm=model.reactions.get_by_id('GLYCLTDxm')\n",
    "GLYCLTDxm.lower_bound=-1000\n",
    "GLYCLTDxm.upper_bound=0 #only backward\n",
    "GLYCLTDxm\n",
    "\n",
    "# Model redirects mNADH regeneration via TCA cycle\n",
    "# Model is infeasible if both GLYCLTD are blocked forward direction"
   ]
  },
  {
   "cell_type": "markdown",
   "metadata": {},
   "source": [
    "#### Control condition: xylose"
   ]
  },
  {
   "cell_type": "code",
   "execution_count": null,
   "metadata": {},
   "outputs": [],
   "source": [
    "### Setting the parameters for the simulation (e.g. medium)\n",
    "\n",
    "# set glucose uptake to 0\n",
    "medium = model.medium\n",
    "medium[\"EX_glc__D_e\"] = 0.0\n",
    "model.medium = medium\n",
    "\n",
    "# set xylose uptake to 1.20 - Nlim (shaker flasks)\n",
    "medium = model.medium\n",
    "medium[\"EX_xyl__D_e\"] = 1.20\n",
    "model.medium = medium\n",
    "\n",
    "# set EG uptake to 0\n",
    "medium[\"EX_eg_e\"] = 0\n",
    "model.medium = medium\n",
    "\n",
    "model.medium    # check if it worked"
   ]
  },
  {
   "cell_type": "code",
   "execution_count": null,
   "metadata": {},
   "outputs": [],
   "source": [
    "# Check the bounds on GOR1 (glyoxylate reductase)\n",
    "## Block reversibility of NAD-dependent glyoxylate reductase\n",
    "GLYCLTDy=model.reactions.get_by_id('GLYCLTDy')\n",
    "GLYCLTDy.lower_bound=-1000\n",
    "GLYCLTDy.upper_bound=0 # only backward\n",
    "GLYCLTDy\n",
    "\n",
    "# Check the bounds on GOR1 (glyoxylate reductase)\n",
    "## Block mitochondrial NAD-dependent glyoxylate reductase\n",
    "GLYCLTDxm=model.reactions.get_by_id('GLYCLTDxm')\n",
    "GLYCLTDxm.lower_bound=-1000\n",
    "GLYCLTDxm.upper_bound=0 #only backward\n",
    "GLYCLTDxm"
   ]
  },
  {
   "cell_type": "code",
   "execution_count": null,
   "metadata": {},
   "outputs": [],
   "source": []
  },
  {
   "cell_type": "code",
   "execution_count": null,
   "metadata": {},
   "outputs": [],
   "source": [
    "# Check the bounds on Glyoxylate shunt (Malate synthase)\n",
    "## Block reaction\n",
    "MALSp=model.reactions.get_by_id('MALSp')\n",
    "#MALSp.lower_bound=-1000\n",
    "MALSp.upper_bound=0 # block\n",
    "MALSp\n",
    "\n",
    "GLXtp=model.reactions.get_by_id('GLXtp')\n",
    "GLXtp.lower_bound=0\n",
    "#GLXtp.upper_bound=0 # block\n",
    "GLXtp"
   ]
  },
  {
   "cell_type": "markdown",
   "metadata": {},
   "source": [
    "#### Experimental condition: EG + glucose"
   ]
  },
  {
   "cell_type": "code",
   "execution_count": null,
   "metadata": {},
   "outputs": [],
   "source": [
    "### Allow glycolate accumulation\n",
    "# constraint glycolate\n",
    "EX_glyclt_e=model.reactions.get_by_id('EX_glyclt_e')\n",
    "EX_glyclt_e.upper_bound=0.145\n",
    "EX_glyclt_e.lower_bound=0.145 # Nlim GA yield on EG is 1.010 mmol/mmol\n",
    "EX_glyclt_e"
   ]
  },
  {
   "cell_type": "code",
   "execution_count": null,
   "metadata": {},
   "outputs": [],
   "source": [
    "### Setting the parameters for the simulation (e.g. medium)\n",
    "\n",
    "# set glucose uptake to 1.118 - Nlim (bioreactors)\n",
    "medium = model.medium\n",
    "medium[\"EX_glc__D_e\"] = 1.118\n",
    "model.medium = medium\n",
    "\n",
    "# set EG uptake to 0.146 - Nlim\n",
    "medium[\"EX_eg_e\"] = 0.146\n",
    "model.medium = medium\n",
    "\n",
    "model.medium    # check if it worked"
   ]
  },
  {
   "cell_type": "code",
   "execution_count": null,
   "metadata": {},
   "outputs": [],
   "source": [
    "# Check the bounds on GOR1 (glyoxylate reductase)\n",
    "## Block reversibility of NAD-dependent glyoxylate reductase\n",
    "GLYCLTDy=model.reactions.get_by_id('GLYCLTDy')\n",
    "GLYCLTDy.lower_bound=-1000\n",
    "GLYCLTDy.upper_bound=0 # only backward\n",
    "GLYCLTDy\n",
    "\n",
    "# Check the bounds on GOR1 (glyoxylate reductase)\n",
    "## Block mitochondrial NAD-dependent glyoxylate reductase\n",
    "GLYCLTDxm=model.reactions.get_by_id('GLYCLTDxm')\n",
    "GLYCLTDxm.lower_bound=-1000\n",
    "GLYCLTDxm.upper_bound=0 #only backward\n",
    "GLYCLTDxm"
   ]
  },
  {
   "cell_type": "code",
   "execution_count": null,
   "metadata": {},
   "outputs": [],
   "source": [
    "# Check the bounds on Glyoxylate shunt (Malate synthase)\n",
    "## Block reaction\n",
    "MALSp=model.reactions.get_by_id('MALSp')\n",
    "#MALSp.lower_bound=-1000\n",
    "MALSp.upper_bound=0 # block\n",
    "MALSp\n",
    "\n",
    "GLXtp=model.reactions.get_by_id('GLXtp')\n",
    "GLXtp.lower_bound=0\n",
    "#GLXtp.upper_bound=0 # block\n",
    "GLXtp"
   ]
  },
  {
   "cell_type": "markdown",
   "metadata": {},
   "source": [
    "#### Control condition: glucose"
   ]
  },
  {
   "cell_type": "code",
   "execution_count": null,
   "metadata": {},
   "outputs": [],
   "source": [
    "### Setting the parameters for the simulation (e.g. medium)\n",
    "\n",
    "# set glucose uptake to 1.073\n",
    "medium = model.medium\n",
    "medium[\"EX_glc__D_e\"] = 1.073\n",
    "model.medium = medium\n",
    "\n",
    "# set EG uptake to 0\n",
    "medium[\"EX_eg_e\"] = 0\n",
    "model.medium = medium\n",
    "\n",
    "model.medium    # check if it worked"
   ]
  },
  {
   "cell_type": "code",
   "execution_count": null,
   "metadata": {},
   "outputs": [],
   "source": [
    "# Check the bounds on GOR1 (glyoxylate reductase)\n",
    "## Block reversibility of NAD-dependent glyoxylate reductase\n",
    "GLYCLTDy=model.reactions.get_by_id('GLYCLTDy')\n",
    "GLYCLTDy.lower_bound=-1000\n",
    "GLYCLTDy.upper_bound=0 # only backward\n",
    "GLYCLTDy\n",
    "\n",
    "# Check the bounds on GOR1 (glyoxylate reductase)\n",
    "## Block mitochondrial NAD-dependent glyoxylate reductase\n",
    "GLYCLTDxm=model.reactions.get_by_id('GLYCLTDxm')\n",
    "GLYCLTDxm.lower_bound=-1000\n",
    "GLYCLTDxm.upper_bound=0 #only backward\n",
    "GLYCLTDxm"
   ]
  },
  {
   "cell_type": "code",
   "execution_count": null,
   "metadata": {},
   "outputs": [],
   "source": [
    "# Check the bounds on Glyoxylate shunt (Malate synthase)\n",
    "## Block reaction\n",
    "MALSp=model.reactions.get_by_id('MALSp')\n",
    "#MALSp.lower_bound=-1000\n",
    "MALSp.upper_bound=0 # block\n",
    "MALSp\n",
    "\n",
    "GLXtp=model.reactions.get_by_id('GLXtp')\n",
    "GLXtp.lower_bound=0\n",
    "#GLXtp.upper_bound=0 # block\n",
    "GLXtp"
   ]
  },
  {
   "cell_type": "markdown",
   "metadata": {},
   "source": [
    "#### Simulation: Flux Balance Analysis"
   ]
  },
  {
   "cell_type": "code",
   "execution_count": 7,
   "metadata": {
    "id": "ex10I-9GeJWP"
   },
   "outputs": [
    {
     "data": {
      "text/html": [
       "<strong><em>Optimal</em> solution with objective value 133.290</strong><br><div>\n",
       "<style scoped>\n",
       "    .dataframe tbody tr th:only-of-type {\n",
       "        vertical-align: middle;\n",
       "    }\n",
       "\n",
       "    .dataframe tbody tr th {\n",
       "        vertical-align: top;\n",
       "    }\n",
       "\n",
       "    .dataframe thead th {\n",
       "        text-align: right;\n",
       "    }\n",
       "</style>\n",
       "<table border=\"1\" class=\"dataframe\">\n",
       "  <thead>\n",
       "    <tr style=\"text-align: right;\">\n",
       "      <th></th>\n",
       "      <th>fluxes</th>\n",
       "      <th>reduced_costs</th>\n",
       "    </tr>\n",
       "  </thead>\n",
       "  <tbody>\n",
       "    <tr>\n",
       "      <th>ALCD25yi</th>\n",
       "      <td>0.000</td>\n",
       "      <td>2.000000</td>\n",
       "    </tr>\n",
       "    <tr>\n",
       "      <th>MTHFCm</th>\n",
       "      <td>0.000</td>\n",
       "      <td>2.000000</td>\n",
       "    </tr>\n",
       "    <tr>\n",
       "      <th>AMPN</th>\n",
       "      <td>0.000</td>\n",
       "      <td>27.099010</td>\n",
       "    </tr>\n",
       "    <tr>\n",
       "      <th>DAGCPTer_RT</th>\n",
       "      <td>0.000</td>\n",
       "      <td>-2.000000</td>\n",
       "    </tr>\n",
       "    <tr>\n",
       "      <th>PYRt2</th>\n",
       "      <td>0.000</td>\n",
       "      <td>-2.000000</td>\n",
       "    </tr>\n",
       "    <tr>\n",
       "      <th>...</th>\n",
       "      <td>...</td>\n",
       "      <td>...</td>\n",
       "    </tr>\n",
       "    <tr>\n",
       "      <th>RIBFLVt2</th>\n",
       "      <td>0.000</td>\n",
       "      <td>-2.000000</td>\n",
       "    </tr>\n",
       "    <tr>\n",
       "      <th>T_eg</th>\n",
       "      <td>0.169</td>\n",
       "      <td>-2.000000</td>\n",
       "    </tr>\n",
       "    <tr>\n",
       "      <th>EX_eg_e</th>\n",
       "      <td>-0.169</td>\n",
       "      <td>144.148515</td>\n",
       "    </tr>\n",
       "    <tr>\n",
       "      <th>EG_ox_nad</th>\n",
       "      <td>0.000</td>\n",
       "      <td>-2.000000</td>\n",
       "    </tr>\n",
       "    <tr>\n",
       "      <th>EG_ox_nadp</th>\n",
       "      <td>0.169</td>\n",
       "      <td>-2.000000</td>\n",
       "    </tr>\n",
       "  </tbody>\n",
       "</table>\n",
       "<p>2402 rows × 2 columns</p>\n",
       "</div>"
      ],
      "text/plain": [
       "<Solution 133.290 at 0x16a42f390>"
      ]
     },
     "execution_count": 7,
     "metadata": {},
     "output_type": "execute_result"
    }
   ],
   "source": [
    "# Run flux balance analysis, FBA: loopless solution\n",
    "pfba_solution = cobra.flux_analysis.pfba(model)\n",
    "pfba_solution"
   ]
  },
  {
   "cell_type": "code",
   "execution_count": null,
   "metadata": {
    "id": "pf-9UByHzQOj"
   },
   "outputs": [],
   "source": [
    "# Run flux balance analysis, FBA (optimization function): classical\n",
    "\n",
    "#solution = model.optimize()\n",
    "#solution.objective_value\n",
    "#solution"
   ]
  },
  {
   "cell_type": "code",
   "execution_count": 8,
   "metadata": {},
   "outputs": [
    {
     "data": {
      "text/html": [
       "<h3>Objective</h3><p>1.0 BIOMASS_RT = 0.0741939134130633</p><h4>Uptake</h4><table border=\"1\" class=\"dataframe\">\n",
       "  <thead>\n",
       "    <tr style=\"text-align: right;\">\n",
       "      <th>Metabolite</th>\n",
       "      <th>Reaction</th>\n",
       "      <th>Flux</th>\n",
       "      <th>C-Number</th>\n",
       "      <th>C-Flux</th>\n",
       "    </tr>\n",
       "  </thead>\n",
       "  <tbody>\n",
       "    <tr>\n",
       "      <td>ca2_e</td>\n",
       "      <td>EX_ca2_e</td>\n",
       "      <td>6.173E-05</td>\n",
       "      <td>0</td>\n",
       "      <td>0.00%</td>\n",
       "    </tr>\n",
       "    <tr>\n",
       "      <td>cu2_e</td>\n",
       "      <td>EX_cu2_e</td>\n",
       "      <td>3.895E-05</td>\n",
       "      <td>0</td>\n",
       "      <td>0.00%</td>\n",
       "    </tr>\n",
       "    <tr>\n",
       "      <td>eg_e</td>\n",
       "      <td>EX_eg_e</td>\n",
       "      <td>0.169</td>\n",
       "      <td>2</td>\n",
       "      <td>5.26%</td>\n",
       "    </tr>\n",
       "    <tr>\n",
       "      <td>fe3_e</td>\n",
       "      <td>EX_fe3_e</td>\n",
       "      <td>0.0004577</td>\n",
       "      <td>0</td>\n",
       "      <td>0.00%</td>\n",
       "    </tr>\n",
       "    <tr>\n",
       "      <td>k_e</td>\n",
       "      <td>EX_k_e</td>\n",
       "      <td>0.04346</td>\n",
       "      <td>0</td>\n",
       "      <td>0.00%</td>\n",
       "    </tr>\n",
       "    <tr>\n",
       "      <td>mg2_e</td>\n",
       "      <td>EX_mg2_e</td>\n",
       "      <td>0.004579</td>\n",
       "      <td>0</td>\n",
       "      <td>0.00%</td>\n",
       "    </tr>\n",
       "    <tr>\n",
       "      <td>mn2_e</td>\n",
       "      <td>EX_mn2_e</td>\n",
       "      <td>4.504E-05</td>\n",
       "      <td>0</td>\n",
       "      <td>0.00%</td>\n",
       "    </tr>\n",
       "    <tr>\n",
       "      <td>na1_e</td>\n",
       "      <td>EX_na1_e</td>\n",
       "      <td>0.001936</td>\n",
       "      <td>0</td>\n",
       "      <td>0.00%</td>\n",
       "    </tr>\n",
       "    <tr>\n",
       "      <td>nh4_e</td>\n",
       "      <td>EX_nh4_e</td>\n",
       "      <td>0.4897</td>\n",
       "      <td>0</td>\n",
       "      <td>0.00%</td>\n",
       "    </tr>\n",
       "    <tr>\n",
       "      <td>o2_e</td>\n",
       "      <td>EX_o2_e</td>\n",
       "      <td>2.323</td>\n",
       "      <td>0</td>\n",
       "      <td>0.00%</td>\n",
       "    </tr>\n",
       "    <tr>\n",
       "      <td>pi_e</td>\n",
       "      <td>EX_pi_e</td>\n",
       "      <td>0.01975</td>\n",
       "      <td>0</td>\n",
       "      <td>0.00%</td>\n",
       "    </tr>\n",
       "    <tr>\n",
       "      <td>so4_e</td>\n",
       "      <td>EX_so4_e</td>\n",
       "      <td>0.007437</td>\n",
       "      <td>0</td>\n",
       "      <td>0.00%</td>\n",
       "    </tr>\n",
       "    <tr>\n",
       "      <td>xyl__D_e</td>\n",
       "      <td>EX_xyl__D_e</td>\n",
       "      <td>1.2</td>\n",
       "      <td>5</td>\n",
       "      <td>93.44%</td>\n",
       "    </tr>\n",
       "    <tr>\n",
       "      <td>zn2_e</td>\n",
       "      <td>EX_zn2_e</td>\n",
       "      <td>3.784E-05</td>\n",
       "      <td>0</td>\n",
       "      <td>0.00%</td>\n",
       "    </tr>\n",
       "    <tr>\n",
       "      <td>8aonn_m</td>\n",
       "      <td>SRC_8aonn_m</td>\n",
       "      <td>0.0001794</td>\n",
       "      <td>9</td>\n",
       "      <td>0.03%</td>\n",
       "    </tr>\n",
       "    <tr>\n",
       "      <td>lipoate_m</td>\n",
       "      <td>SRC_lipoate_m</td>\n",
       "      <td>0.0002305</td>\n",
       "      <td>8</td>\n",
       "      <td>0.03%</td>\n",
       "    </tr>\n",
       "    <tr>\n",
       "      <td>trnaala_c</td>\n",
       "      <td>SRC_trnaala_c</td>\n",
       "      <td>0.04285</td>\n",
       "      <td>0</td>\n",
       "      <td>0.00%</td>\n",
       "    </tr>\n",
       "    <tr>\n",
       "      <td>trnaarg_c</td>\n",
       "      <td>SRC_trnaarg_c</td>\n",
       "      <td>0.01088</td>\n",
       "      <td>0</td>\n",
       "      <td>0.00%</td>\n",
       "    </tr>\n",
       "    <tr>\n",
       "      <td>trnaasn_c</td>\n",
       "      <td>SRC_trnaasn_c</td>\n",
       "      <td>0.008011</td>\n",
       "      <td>10</td>\n",
       "      <td>1.25%</td>\n",
       "    </tr>\n",
       "    <tr>\n",
       "      <td>trnaasp_c</td>\n",
       "      <td>SRC_trnaasp_c</td>\n",
       "      <td>0.01464</td>\n",
       "      <td>0</td>\n",
       "      <td>0.00%</td>\n",
       "    </tr>\n",
       "    <tr>\n",
       "      <td>trnacys_c</td>\n",
       "      <td>SRC_trnacys_c</td>\n",
       "      <td>0.002543</td>\n",
       "      <td>0</td>\n",
       "      <td>0.00%</td>\n",
       "    </tr>\n",
       "    <tr>\n",
       "      <td>trnagln_c</td>\n",
       "      <td>SRC_trnagln_c</td>\n",
       "      <td>0.008747</td>\n",
       "      <td>0</td>\n",
       "      <td>0.00%</td>\n",
       "    </tr>\n",
       "    <tr>\n",
       "      <td>trnaglu_c</td>\n",
       "      <td>SRC_trnaglu_c</td>\n",
       "      <td>0.01548</td>\n",
       "      <td>0</td>\n",
       "      <td>0.00%</td>\n",
       "    </tr>\n",
       "    <tr>\n",
       "      <td>trnagly_c</td>\n",
       "      <td>SRC_trnagly_c</td>\n",
       "      <td>0.03808</td>\n",
       "      <td>0</td>\n",
       "      <td>0.00%</td>\n",
       "    </tr>\n",
       "    <tr>\n",
       "      <td>trnahis_c</td>\n",
       "      <td>SRC_trnahis_c</td>\n",
       "      <td>0.004538</td>\n",
       "      <td>0</td>\n",
       "      <td>0.00%</td>\n",
       "    </tr>\n",
       "    <tr>\n",
       "      <td>trnaile_c</td>\n",
       "      <td>SRC_trnaile_c</td>\n",
       "      <td>0.01176</td>\n",
       "      <td>0</td>\n",
       "      <td>0.00%</td>\n",
       "    </tr>\n",
       "    <tr>\n",
       "      <td>trnaleu_c</td>\n",
       "      <td>SRC_trnaleu_c</td>\n",
       "      <td>0.02376</td>\n",
       "      <td>0</td>\n",
       "      <td>0.00%</td>\n",
       "    </tr>\n",
       "    <tr>\n",
       "      <td>trnalys_c</td>\n",
       "      <td>SRC_trnalys_c</td>\n",
       "      <td>0.01279</td>\n",
       "      <td>0</td>\n",
       "      <td>0.00%</td>\n",
       "    </tr>\n",
       "    <tr>\n",
       "      <td>trnamet_c</td>\n",
       "      <td>SRC_trnamet_c</td>\n",
       "      <td>0.004233</td>\n",
       "      <td>0</td>\n",
       "      <td>0.00%</td>\n",
       "    </tr>\n",
       "    <tr>\n",
       "      <td>trnaphe_c</td>\n",
       "      <td>SRC_trnaphe_c</td>\n",
       "      <td>0.007061</td>\n",
       "      <td>0</td>\n",
       "      <td>0.00%</td>\n",
       "    </tr>\n",
       "    <tr>\n",
       "      <td>trnapro_c</td>\n",
       "      <td>SRC_trnapro_c</td>\n",
       "      <td>0.0175</td>\n",
       "      <td>0</td>\n",
       "      <td>0.00%</td>\n",
       "    </tr>\n",
       "    <tr>\n",
       "      <td>trnaser_c</td>\n",
       "      <td>SRC_trnaser_c</td>\n",
       "      <td>0.02499</td>\n",
       "      <td>0</td>\n",
       "      <td>0.00%</td>\n",
       "    </tr>\n",
       "    <tr>\n",
       "      <td>trnathr_c</td>\n",
       "      <td>SRC_trnathr_c</td>\n",
       "      <td>0.01618</td>\n",
       "      <td>0</td>\n",
       "      <td>0.00%</td>\n",
       "    </tr>\n",
       "    <tr>\n",
       "      <td>trnatrp_c</td>\n",
       "      <td>SRC_trnatrp_c</td>\n",
       "      <td>0.00173</td>\n",
       "      <td>0</td>\n",
       "      <td>0.00%</td>\n",
       "    </tr>\n",
       "    <tr>\n",
       "      <td>trnatyr_c</td>\n",
       "      <td>SRC_trnatyr_c</td>\n",
       "      <td>0.004627</td>\n",
       "      <td>0</td>\n",
       "      <td>0.00%</td>\n",
       "    </tr>\n",
       "    <tr>\n",
       "      <td>trnaval_c</td>\n",
       "      <td>SRC_trnaval_c</td>\n",
       "      <td>0.02042</td>\n",
       "      <td>0</td>\n",
       "      <td>0.00%</td>\n",
       "    </tr>\n",
       "  </tbody>\n",
       "</table><h4>Secretion</h4><table border=\"1\" class=\"dataframe\">\n",
       "  <thead>\n",
       "    <tr style=\"text-align: right;\">\n",
       "      <th>Metabolite</th>\n",
       "      <th>Reaction</th>\n",
       "      <th>Flux</th>\n",
       "      <th>C-Number</th>\n",
       "      <th>C-Flux</th>\n",
       "    </tr>\n",
       "  </thead>\n",
       "  <tbody>\n",
       "    <tr>\n",
       "      <td>3aap_c</td>\n",
       "      <td>DM_3aap_c</td>\n",
       "      <td>-0.05255</td>\n",
       "      <td>5</td>\n",
       "      <td>7.73%</td>\n",
       "    </tr>\n",
       "    <tr>\n",
       "      <td>4oglu_c</td>\n",
       "      <td>DM_4oglu_c</td>\n",
       "      <td>-0.0001034</td>\n",
       "      <td>5</td>\n",
       "      <td>0.02%</td>\n",
       "    </tr>\n",
       "    <tr>\n",
       "      <td>amob_m</td>\n",
       "      <td>DM_amob_m</td>\n",
       "      <td>-0.0001794</td>\n",
       "      <td>15</td>\n",
       "      <td>0.08%</td>\n",
       "    </tr>\n",
       "    <tr>\n",
       "      <td>dad_5_m</td>\n",
       "      <td>DM_dad_5_m</td>\n",
       "      <td>-0.0001794</td>\n",
       "      <td>10</td>\n",
       "      <td>0.05%</td>\n",
       "    </tr>\n",
       "    <tr>\n",
       "      <td>co2_e</td>\n",
       "      <td>EX_co2_e</td>\n",
       "      <td>-2.4</td>\n",
       "      <td>1</td>\n",
       "      <td>70.59%</td>\n",
       "    </tr>\n",
       "    <tr>\n",
       "      <td>fe2_e</td>\n",
       "      <td>EX_fe2_e</td>\n",
       "      <td>-0.0003178</td>\n",
       "      <td>0</td>\n",
       "      <td>0.00%</td>\n",
       "    </tr>\n",
       "    <tr>\n",
       "      <td>glyclt_e</td>\n",
       "      <td>EX_glyclt_e</td>\n",
       "      <td>-0.23</td>\n",
       "      <td>2</td>\n",
       "      <td>13.53%</td>\n",
       "    </tr>\n",
       "    <tr>\n",
       "      <td>h2o_e</td>\n",
       "      <td>EX_h2o_e</td>\n",
       "      <td>-4.248</td>\n",
       "      <td>0</td>\n",
       "      <td>0.00%</td>\n",
       "    </tr>\n",
       "    <tr>\n",
       "      <td>h_e</td>\n",
       "      <td>EX_h_e</td>\n",
       "      <td>-0.3997</td>\n",
       "      <td>0</td>\n",
       "      <td>0.00%</td>\n",
       "    </tr>\n",
       "    <tr>\n",
       "      <td>hco3_e</td>\n",
       "      <td>EX_hco3_e</td>\n",
       "      <td>-0.001859</td>\n",
       "      <td>1</td>\n",
       "      <td>0.05%</td>\n",
       "    </tr>\n",
       "    <tr>\n",
       "      <td>zymst_e</td>\n",
       "      <td>EX_zymst_e</td>\n",
       "      <td>-0.01001</td>\n",
       "      <td>27</td>\n",
       "      <td>7.95%</td>\n",
       "    </tr>\n",
       "  </tbody>\n",
       "</table>"
      ],
      "text/plain": [
       "<cobra.summary.model_summary.ModelSummary at 0x1692f4c10>"
      ]
     },
     "execution_count": 8,
     "metadata": {},
     "output_type": "execute_result"
    }
   ],
   "source": [
    "# Print exchange fluxes\n",
    "\n",
    "model.summary()"
   ]
  },
  {
   "cell_type": "code",
   "execution_count": 9,
   "metadata": {
    "id": "iEUMulCxXH5G"
   },
   "outputs": [],
   "source": [
    "# Export data (for Escher):\n",
    "data = pfba_solution.fluxes\n",
    "#data = solution.fluxes\n",
    "\n",
    "data.to_csv('Rt_IFO0880_NAD_and_NADP_EG_and_xyl_fluxes.csv')"
   ]
  },
  {
   "cell_type": "code",
   "execution_count": null,
   "metadata": {
    "id": "153j_GcvX0ZM"
   },
   "outputs": [],
   "source": [
    "# Other code:\n",
    "\n",
    "model.metabolites.nadph_c.summary()"
   ]
  },
  {
   "cell_type": "code",
   "execution_count": null,
   "metadata": {
    "id": "SUDMK5_nKeeq"
   },
   "outputs": [],
   "source": [
    "model.metabolites.nadp_c.summary()"
   ]
  },
  {
   "cell_type": "code",
   "execution_count": null,
   "metadata": {},
   "outputs": [],
   "source": [
    "model.metabolites.atp_c.summary()"
   ]
  },
  {
   "cell_type": "code",
   "execution_count": null,
   "metadata": {
    "id": "HFuZiWIOKXmt"
   },
   "outputs": [],
   "source": [
    "model.metabolites.nadph_m.summary()"
   ]
  },
  {
   "cell_type": "code",
   "execution_count": null,
   "metadata": {
    "id": "G07F4haCKS40"
   },
   "outputs": [],
   "source": [
    "model.metabolites.nadph_x.summary()"
   ]
  },
  {
   "cell_type": "code",
   "execution_count": null,
   "metadata": {
    "id": "zhHcJGhCKG0X"
   },
   "outputs": [],
   "source": [
    "model.metabolites.nadh_c.summary()"
   ]
  },
  {
   "cell_type": "code",
   "execution_count": null,
   "metadata": {
    "id": "RPqLWP4nKEWo"
   },
   "outputs": [],
   "source": [
    "model.metabolites.nadh_m.summary()"
   ]
  },
  {
   "cell_type": "code",
   "execution_count": null,
   "metadata": {},
   "outputs": [],
   "source": [
    "model.metabolites.nadh_x.summary()"
   ]
  },
  {
   "cell_type": "code",
   "execution_count": null,
   "metadata": {},
   "outputs": [],
   "source": [
    "# to be developed further for exporting results using pandas"
   ]
  }
 ],
 "metadata": {
  "colab": {
   "provenance": []
  },
  "kernelspec": {
   "display_name": "Python 3 (ipykernel)",
   "language": "python",
   "name": "python3"
  },
  "language_info": {
   "codemirror_mode": {
    "name": "ipython",
    "version": 3
   },
   "file_extension": ".py",
   "mimetype": "text/x-python",
   "name": "python",
   "nbconvert_exporter": "python",
   "pygments_lexer": "ipython3",
   "version": "3.11.11"
  }
 },
 "nbformat": 4,
 "nbformat_minor": 4
}

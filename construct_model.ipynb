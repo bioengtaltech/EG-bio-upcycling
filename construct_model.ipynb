{
  "nbformat": 4,
  "nbformat_minor": 0,
  "metadata": {
    "colab": {
      "provenance": []
    },
    "kernelspec": {
      "name": "python3",
      "display_name": "Python 3"
    },
    "language_info": {
      "name": "python"
    }
  },
  "cells": [
    {
      "cell_type": "code",
      "source": [
        "### START FROM HERE\n",
        "from google.colab import drive\n",
        "drive.mount('/content/drive')"
      ],
      "metadata": {
        "id": "j5bBHJtNrSVi"
      },
      "execution_count": null,
      "outputs": []
    },
    {
      "cell_type": "code",
      "source": [
        "# General installation of packages\n",
        "\n",
        "!pip install cobra\n",
        "import cobra\n",
        "from cobra import Model, Reaction, Metabolite\n",
        "\n"
      ],
      "metadata": {
        "id": "qQ_Y2KSjmRzN"
      },
      "execution_count": null,
      "outputs": []
    },
    {
      "cell_type": "code",
      "source": [
        "# Import model\n",
        "model=cobra.io.read_sbml_model('/content/drive/MyDrive/REPLAY - A2C/Altri lavori paralleli/_TALTECH/Modeling/Rt_IFO0880.xml') # Vittorio\n",
        "#model=cobra.io.read_sbml_model('/content/drive/MyDrive/TalTech/modelling/Rt_IFO0880.xml') # Alina\n",
        "#model #to check it worked\n",
        "\n",
        "\n",
        "#!pip install escher\n",
        "#import escher\n",
        "#from escher import Builder"
      ],
      "metadata": {
        "id": "TmnMLo7ATtGD"
      },
      "execution_count": 3,
      "outputs": []
    },
    {
      "cell_type": "code",
      "source": [
        "# Putative ethylene glycol pathway:\n",
        "\n",
        "# ethylene glycol oxidase: ethylene glycol DH\n",
        "# GRE2: RHTO_02276 - 12151 (LALDO3), RHTO_04342 - 11160 (LALDO3), RHTO_03406 - 10497 (LALDO3), RHTO_04716 - 12315 (), RHTO_00738 - 11786 ()\n",
        "# ALD1/ALD6:\n",
        "# YLL056C: RHTO_04070 - 9601 (), RHTO_04071 - 9602 ()\n",
        "\n",
        "# glycolaldehyde oxidase: glycolaldehyde DH\n",
        "# ALDH: RHTO_05835 - 12042 (GCALDD)\n",
        "# ALD3\n",
        "# ALD4\n",
        "# ALD5\n",
        "\n",
        "# glyoxylate reductase:\n",
        "# GOR1: RHTO_05831 - 12051 (GLYCLTDxm)"
      ],
      "metadata": {
        "id": "e14Srv2gYjjj"
      },
      "execution_count": null,
      "outputs": []
    },
    {
      "cell_type": "code",
      "source": [
        "### Add EG as a metabolite\n",
        "\n",
        "# 1. Add EG to the cytosol and the outside of the cell\n",
        "model.add_metabolites([\n",
        "            Metabolite(\n",
        "            'eg_c',\n",
        "            formula='C2H6O2',\n",
        "            name='eg_c',\n",
        "            compartment='c'\n",
        "            ),\n",
        "            Metabolite(\n",
        "            'eg_e',\n",
        "            formula='C2H6O2',\n",
        "            name='eg_e',\n",
        "            compartment='e'   \n",
        "            ),\n",
        "])\n",
        "\n",
        "\n",
        "# 2. Create transport reaction to allow EG to enter the cell (from e to c)\n",
        "eg_e=model.metabolites.get_by_id('eg_e')\n",
        "eg_c=model.metabolites.get_by_id('eg_c')\n",
        "\n",
        "EGt = Reaction('T_eg')\n",
        "EGt.name = 'EG transport'\n",
        "EGt.subsystem = 'EG Oxydation Pathway'\n",
        "EGt.lower_bound = -999999\n",
        "EGt.upper_bound = 999999\n",
        "\n",
        "EGt.add_metabolites({\n",
        "                eg_e: -1.0,\n",
        "                eg_c: 1.0\n",
        "})\n",
        "\n",
        "model.add_reactions([EGt])\n",
        "#model.reactions.get_by_id(\"T_eg\") # check\n",
        "\n",
        "\n",
        "# 3. Create exchange reaction to allow EG to enter the cell\n",
        "EX_eg_e = Reaction('EX_eg_e')\n",
        "EX_eg_e.name = 'EG exchange'\n",
        "EX_eg_e.subsystem = 'EG Oxydation Pathway'\n",
        "EX_eg_e.lower_bound = -999999\n",
        "EX_eg_e.upper_bound = 999999\n",
        "\n",
        "EX_eg_e.add_metabolites({\n",
        "                eg_e: -1.0,\n",
        "})\n",
        "\n",
        "model.add_reactions([EX_eg_e])\n",
        "#model.reactions.get_by_id(\"EX_eg_e\") # check\n",
        "\n",
        "# set bounds for EG exchange\n",
        "#model.add_boundary(model.metabolites.get_by_id('eg_e'), type=\"exchange\")\n",
        "\n",
        "# check if it has been created (and the name); rxn are added at the bottom\n",
        "#model.exchanges\n"
      ],
      "metadata": {
        "id": "obyepV8zro0j"
      },
      "execution_count": 4,
      "outputs": []
    },
    {
      "cell_type": "code",
      "source": [
        "### Create the new reactions for EG consumption\n",
        "\n",
        "\n",
        "## 1. EG oxidation to GAH (NAD+) - homologue to YLL056C (Sc)\n",
        "eg_ox_nad = Reaction('EG_ox_nad')\n",
        "eg_ox_nad.name = 'EG - NAD-dependent alcohol dehydrogenase'\n",
        "eg_ox_nad.subsystem = 'EG Oxydation Pathway'\n",
        "eg_ox_nad.lower_bound = -999999\n",
        "eg_ox_nad.upper_bound = 999999\n",
        "\n",
        "## 2. EG oxidation to GAH (NADP+) - homologue to GRE2 (Sc)\n",
        "eg_ox_nadp = Reaction('EG_ox_nadp')\n",
        "eg_ox_nadp.name = 'EG - NADP-dependent alcohol dehydrogenase'\n",
        "eg_ox_nadp.subsystem = 'EG Oxydation Pathway'\n",
        "eg_ox_nadp.lower_bound = -999999\n",
        "eg_ox_nadp.upper_bound = 999999\n",
        "\n",
        "## 3. Get the metabolites involved in the reactions\n",
        "eg_c=model.metabolites.get_by_id(\"eg_c\")        # get EG\n",
        "nad_c=model.metabolites.get_by_id(\"nad_c\")      # get NAD+\n",
        "nadh_c=model.metabolites.get_by_id(\"nadh_c\")    # get NADH\n",
        "h_c=model.metabolites.get_by_id(\"h_c\")          # get a proton\n",
        "nadp_c=model.metabolites.get_by_id(\"nadp_c\")     # get NADP+\n",
        "nadph_c=model.metabolites.get_by_id(\"nadph_c\")   # get NADPH\n",
        "gah_c=model.metabolites.get_by_id('gcald_c')    # get GAH\n",
        "\n",
        "## 4. Add metabolites to reactions and change bounds\n",
        "\n",
        "# 4a. NAD+ dependent\n",
        "eg_ox_nad.add_metabolites({\n",
        "              eg_c: -1.0,\n",
        "              nad_c: -1.0,\n",
        "              gah_c: 1.0,\n",
        "              nadh_c: 1.0,\n",
        "              h_c: 1.0,\n",
        "})\n",
        "\n",
        "#eg_ox_nad.reaction  # to check\n",
        "\n",
        "# change bounds\n",
        "eg_ox_nad.lower_bound = 0\n",
        "\n",
        "\n",
        "\n",
        "# 4b. NADP+ dependent\n",
        "eg_ox_nadp.add_metabolites({\n",
        "              eg_c: -1.0,\n",
        "              nadp_c: -1.0,\n",
        "              gah_c: 1.0,\n",
        "              nadph_c: 1.0,\n",
        "              h_c: 1.0,\n",
        "})\n",
        "\n",
        "#eg_ox_nadp.reaction  # to check\n",
        "\n",
        "# change bounds\n",
        "eg_ox_nadp.lower_bound = 0\n",
        "\n",
        "\n",
        "## 5. Add reactions to model\n",
        "model.add_reactions([eg_ox_nad])\n",
        "model.add_reactions([eg_ox_nadp])\n"
      ],
      "metadata": {
        "id": "FPI5lb6CVktK"
      },
      "execution_count": 5,
      "outputs": []
    },
    {
      "cell_type": "code",
      "source": [
        "### Change bounds for the reactions GA <-> GOX\n",
        "\n",
        "# 1. Glyoxylate reductase (NAD), mitochondrial\n",
        "ga_ox_mit=model.reactions.get_by_id('GLYCLTDxm')\n",
        "ga_ox_mit.bounds = (-1000, 1000)\n",
        "#ga_ox_mit # to check\n",
        "\n",
        "# 2. Glyoxylate reductase (NADP), cytosol\n",
        "ga_ox_c=model.reactions.get_by_id('GLYCLTDy')\n",
        "ga_ox_c.bounds = (-1000, 1000)\n",
        "#ga_ox_c # to check\n",
        "\n",
        "\n",
        "# Remove oxidation of glycolate to glyoxylate with O2\n",
        "GLYCTO1p = model.reactions.get_by_id(\"GLYCTO1p\")\n",
        "model.remove_reactions([GLYCTO1p])\n"
      ],
      "metadata": {
        "id": "yjCb3otKV7pv"
      },
      "execution_count": 6,
      "outputs": []
    },
    {
      "cell_type": "code",
      "source": [
        "# MODEL CURATION: DEFAULT MODEL\n",
        "\n",
        "# Transfer of AcCoA between compartments\n",
        "\n",
        "# Read all involved metabolites\n",
        "acrn_x=model.metabolites.get_by_id(\"acrn_x\")\n",
        "acrn_c=model.metabolites.get_by_id(\"acrn_c\")\n",
        "acrn_m=model.metabolites.get_by_id(\"acrn_m\")\n",
        "crn_x=model.metabolites.get_by_id(\"crn_x\")\n",
        "crn_c=model.metabolites.get_by_id(\"crn_c\")\n",
        "crn_m=model.metabolites.get_by_id(\"crn_m\")\n",
        "coa_c=model.metabolites.get_by_id(\"coa_c\")\n",
        "coa_m=model.metabolites.get_by_id(\"coa_m\")\n",
        "accoa_c=model.metabolites.get_by_id(\"accoa_c\")\n",
        "\n",
        "# deacetylation reaction in cytosol\n",
        "CSNATr = Reaction(\"CSNATr\")\n",
        "CSNATr.name = 'Carnitine O acetyltransferase'\n",
        "CSNATr.lower_bound = -1000    #reversible\n",
        "CSNATr.upper_bound = 1000\n",
        "\n",
        "CSNATr.add_metabolites({\n",
        "              acrn_c: -1.0,\n",
        "              coa_c: -1.0,\n",
        "              accoa_c: 1.0,\n",
        "              crn_c: 1.0,\n",
        "              })\n",
        "\n",
        "#Exchange of TCA intermediates between peroxisome and cytosol\n",
        "\n",
        "\n",
        "# CITtcp - Citrate/isocitrate antiport into peroxisome\n",
        "\n",
        "cit_c=model.metabolites.get_by_id(\"cit_c\")\n",
        "cit_x=model.metabolites.get_by_id(\"cit_x\")\n",
        "icit_c=model.metabolites.get_by_id(\"icit_c\")\n",
        "icit_x=model.metabolites.get_by_id(\"icit_x\")\n",
        "\n",
        "CITtcp = Reaction(\"CITtcp\")\n",
        "CITtcp.name = 'Citrate/isocitrate antiport into peroxisome'\n",
        "CITtcp.lower_bound = -1000    #reversible\n",
        "CITtcp.upper_bound = 1000\n",
        "\n",
        "CITtcp.add_metabolites({\n",
        "              cit_c: -1.0,\n",
        "              icit_x: -1.0,\n",
        "              icit_c: 1.0,\n",
        "              cit_x: 1.0,\n",
        "              })\n",
        "\n",
        "\n",
        "# GLYCLTDyp - Glyoxylate reductase (NADP), peroxisomal: change bounds to make it reversible\n",
        "GLYCLTDyp=model.reactions.get_by_id('GLYCLTDyp')\n",
        "GLYCLTDyp.bounds = (-1000, 1000)\n",
        "\n",
        "\n",
        "# GLYCLTtp - GA transport between cytosol and peroxisome: change bounds to make it reversible\n",
        "GLYCLTtp=model.reactions.get_by_id('GLYCLTtp')\n",
        "GLYCLTtp.bounds = (-1000, 1000)\n",
        "\n",
        "\n",
        "# ACONT [cytosolic] (aconitase) is missing from the model\n",
        "\n",
        "ACONTc = Reaction(\"ACONTc\")\n",
        "ACONTc.name = 'cytosolic aconitase'\n",
        "ACONTc.lower_bound = -1000    #reversible\n",
        "ACONTc.upper_bound = 1000\n",
        "\n",
        "ACONTc.add_metabolites({\n",
        "              cit_c: -1.0,\n",
        "              icit_c: 1.0,\n",
        "              })\n",
        "\n",
        "# ICLc - cytosolic Isocitrate lyase (gene ICL2)\n",
        "icit_m=model.metabolites.get_by_id(\"icit_m\")\n",
        "glx_c=model.metabolites.get_by_id(\"glx_c\")\n",
        "glx_m=model.metabolites.get_by_id(\"glx_m\")\n",
        "succ_c=model.metabolites.get_by_id(\"succ_c\")\n",
        "succ_m=model.metabolites.get_by_id(\"succ_m\")\n",
        "\n",
        "  # cytosolic\n",
        "ICLc = Reaction(\"ICLc\")\n",
        "ICLc.name = 'cytosolic Isocitrate lyase'\n",
        "ICLc.lower_bound = -1000    #reversible\n",
        "ICLc.upper_bound = 1000\n",
        "\n",
        "ICLc.add_metabolites({\n",
        "              icit_c: -1.0,\n",
        "              glx_c: 1.0,\n",
        "              succ_c: 1.0\n",
        "              })\n",
        "\n",
        "# MALS (cytosolic malate synthase)\n",
        "mal__L_c=model.metabolites.get_by_id(\"mal__L_c\")\n",
        "h2o_c=model.metabolites.get_by_id(\"h2o_c\")\n",
        "\n",
        "MALS = Reaction(\"MALS\")\n",
        "MALS.name = ' Isocitrate lyase'\n",
        "MALS.lower_bound = -1000    #reversible\n",
        "MALS.upper_bound = 1000\n",
        "\n",
        "MALS.add_metabolites({\n",
        "              accoa_c: -1.0,\n",
        "              glx_c: -1.0,\n",
        "              h2o_c: -1.0,\n",
        "              coa_c: 1.0,\n",
        "              mal__L_c: 1.0,\n",
        "              h_c: 1.0\n",
        "              })\n",
        "\n",
        "# MDHc - cytosolic malate dehydrogenase\n",
        "oaa_c=model.metabolites.get_by_id(\"oaa_c\")\n",
        "\n",
        "MDHc = Reaction(\"MDHc\")\n",
        "MDHc.name = 'cytosolic malate dehydrogenase'\n",
        "MDHc.lower_bound = -1000    #reversible\n",
        "MDHc.upper_bound = 1000\n",
        "\n",
        "MDHc.add_metabolites({\n",
        "              mal__L_c: -1.0,\n",
        "              nad_c: -1.0,\n",
        "              oaa_c: 1.0,\n",
        "              nadh_c: 1.0,\n",
        "              h_c: 1.0\n",
        "              })\n",
        "\n",
        "# FUMc - cytosolic fumarase\n",
        "fum_c=model.metabolites.get_by_id(\"fum_c\")\n",
        "\n",
        "FUMc = Reaction(\"FUMc\")\n",
        "FUMc.name = 'cytosolic fumarase'\n",
        "FUMc.lower_bound = -1000    #reversible\n",
        "FUMc.upper_bound = 1000\n",
        "\n",
        "FUMc.add_metabolites({\n",
        "              fum_c: -1.0,\n",
        "              h2o_c: -1.0,\n",
        "              mal__L_c: 1.0\n",
        "              })\n",
        "\n",
        "# IDP1c - Cytosolic isocitrate dehydrogenase NADP+-dependent\n",
        "akg_c=model.metabolites.get_by_id(\"akg_c\")\n",
        "co2_c=model.metabolites.get_by_id(\"co2_c\")\n",
        "\n",
        "IDP1c = Reaction(\"IDP1c\")\n",
        "IDP1c.name = 'Cytosolic isocitrate dehydrogenase NADP+-dependent'\n",
        "IDP1c.lower_bound = -1000    #reversible\n",
        "IDP1c.upper_bound = 1000\n",
        "\n",
        "IDP1c.add_metabolites({\n",
        "              icit_c: -1.0,\n",
        "              nadp_c: -1.0,\n",
        "              akg_c: 1.0,\n",
        "              co2_c: 1.0,\n",
        "              nadph_c: 1.0,\n",
        "              h_c: -1.0\n",
        "              })\n",
        "\n",
        "\n",
        "model.add_reactions([CSNATr,\n",
        "                    ACONTc,\n",
        "                    ICLc,\n",
        "                    MALS,\n",
        "                    MDHc,\n",
        "                    FUMc,\n",
        "                    IDP1c])"
      ],
      "metadata": {
        "id": "MjIPv740xwID"
      },
      "execution_count": 7,
      "outputs": []
    },
    {
      "cell_type": "code",
      "source": [
        "# ALTERNATIVE MODEL alpha:\n",
        "\n",
        "# Transport of Acetyl-CoA between compartments (peroxisome-cytosol, cytosol-mitochondria) is mediated by carnitine. The reactions are present in the model but they do not keep into consideration that (acetyl-)carnitine is regenerated in the compartments.\n",
        "\n",
        "# create ACRNtp (\"Acetylcarnitine transport to/from peroxisome\" should be changed to allow consumption of cytosolic carnitine and regeneration of peroxisomal carnitine\n",
        "ACRNtp = model.reactions.get_by_id(\"ACRNtp\")\n",
        "ACRNtp.add_metabolites({\n",
        "              crn_c: -1.0,\n",
        "              crn_x: 1.0,\n",
        "              })\n",
        "\n",
        "# create ACRNtm (\"Acetylcarnitine transport to/from mitochondria\")\n",
        "ACRNtm = model.reactions.get_by_id(\"ACRNtm\")\n",
        "ACRNtm.add_metabolites({\n",
        "              crn_c: 1.0,\n",
        "              crn_m: -1.0,\n",
        "              })\n"
      ],
      "metadata": {
        "id": "KtbGPUNmfrGn"
      },
      "execution_count": 23,
      "outputs": []
    },
    {
      "cell_type": "code",
      "source": [
        " #ALTERNATIVE MODEL beta:\n",
        "\n",
        "# Transport of Acetyl-CoA between compartments (peroxisome-cytosol, cytosol-mitochondria) is mediated by carnitine. The reactions are present in the model but they do not keep into consideration that (acetyl-)carnitine is regenerated in the compartments.\n",
        "\n",
        "# create ACRNtp (\"Acetylcarnitine transport to/from peroxisome\" should be changed to allow consumption of cytosolic carnitine and regeneration of peroxisomal carnitine\n",
        "ACRNtp = model.reactions.get_by_id(\"ACRNtp\")\n",
        "ACRNtp.add_metabolites({\n",
        "              crn_c: -1.0,\n",
        "              crn_x: 1.0,\n",
        "              })\n",
        "\n",
        "# create ACRNtm (\"Acetylcarnitine transport to/from mitochondria\")\n",
        "ACRNtm = model.reactions.get_by_id(\"ACRNtm\")\n",
        "ACRNtm.add_metabolites({\n",
        "              crn_c: 1.0,\n",
        "              crn_m: -1.0,\n",
        "              })\n",
        "\n",
        " # ICLm (mitochondrial, gene ICL1)\n",
        "ICLm = Reaction(\"ICLm\")\n",
        "ICLm.name = 'mitochondrial Isocitrate lyase'\n",
        "ICLm.lower_bound = -1000    #reversible\n",
        "ICLm.upper_bound = 1000\n",
        "\n",
        "ICLm.add_metabolites({\n",
        "              icit_m: -1.0,\n",
        "              glx_m: 1.0,\n",
        "              succ_m: 1.0\n",
        "              })\n",
        "\n",
        "model.add_reactions([ICLm])"
      ],
      "metadata": {
        "id": "Gv1-3LNYgLFO"
      },
      "execution_count": 28,
      "outputs": []
    },
    {
      "cell_type": "code",
      "source": [
        "# Save model:\n",
        "# json: escher maps\n",
        "# xml\n",
        "# mat\n",
        "\n",
        "### CHECK THE NAME OF THE FILES EVERY TIME!!! ###\n",
        "cobra.io.json.save_json_model(model,'/content/drive/MyDrive/REPLAY - A2C/Altri lavori paralleli/_TALTECH/Modeling/_Model curation/EG only/Rt_IFO0880_EG_curated_v4.json')\n",
        "cobra.io.save_matlab_model(model,'/content/drive/MyDrive/REPLAY - A2C/Altri lavori paralleli/_TALTECH/Modeling/_Model curation/EG only/Rt_IFO0880_EG_curated_v4.mat')\n",
        "cobra.io.write_sbml_model(model,'/content/drive/MyDrive/REPLAY - A2C/Altri lavori paralleli/_TALTECH/Modeling/_Model curation/EG only/Rt_IFO0880_EG_curated_v4.xml')\n",
        "#cobra.io.json.save_json_model(model,'/content/drive/MyDrive/TalTech/modelling/Rt_IFO0880_EG_curated_v04.json') # Alina # both cofactors\n",
        "#cobra.io.save_matlab_model(model,'/content/drive/MyDrive/TalTech/modelling/Rt_IFO0880_EG_curated_v04.mat') # Alina\n",
        "#cobra.io.write_sbml_model(model,'/content/drive/MyDrive/TalTech/modelling/Rt_IFO0880_EG_curated_v04.xml') # Alina\n"
      ],
      "metadata": {
        "id": "fZjtq_64dqSl"
      },
      "execution_count": 10,
      "outputs": []
    },
    {
      "cell_type": "code",
      "source": [
        "# We will run two types of simulations: EG and glucose co-consumption (1st) and EG consumption alone (2nd)\n",
        "### Setting the parameters for the simulation (e.g. medium)\n",
        "\n",
        "#1st: Default bound is glucose uptake = 1.0\n",
        "# set glucose uptake\n",
        "medium = model.medium\n",
        "medium[\"EX_glc__D_e\"] = 0.1\n",
        "model.medium = medium\n",
        "\n",
        "# set EG uptake to 1\n",
        "medium = model.medium\n",
        "medium[\"EX_eg_e\"] = 1.0\n",
        "model.medium = medium\n",
        "\n",
        "### Allow glycolate accumulation\n",
        "# constrain glycolate\n",
        "EX_glyclt_e=model.reactions.get_by_id('EX_glyclt_e')\n",
        "EX_glyclt_e.upper_bound=0.90\n",
        "EX_glyclt_e.lower_bound=0.75\n",
        "EX_glyclt_e\n",
        "\n",
        "model.medium    # Bounds after setting up"
      ],
      "metadata": {
        "id": "9hJOlFrHlXMR"
      },
      "execution_count": null,
      "outputs": []
    },
    {
      "cell_type": "code",
      "source": [
        "#2nd:\n",
        "\n",
        "# set glucose uptake to 0\n",
        "medium = model.medium\n",
        "medium[\"EX_glc__D_e\"] = 0.0\n",
        "model.medium = medium\n",
        "\n",
        "# set EG uptake to 1\n",
        "medium = model.medium\n",
        "medium[\"EX_eg_e\"] = 1.0\n",
        "model.medium = medium\n",
        "\n",
        "### Allow glycolate accumulation\n",
        "# constrain glycolate\n",
        "EX_glyclt_e=model.reactions.get_by_id('EX_glyclt_e')\n",
        "EX_glyclt_e.upper_bound=0.90\n",
        "EX_glyclt_e.lower_bound=0.75\n",
        "EX_glyclt_e\n",
        "\n",
        "model.medium    # Bounds after setting up"
      ],
      "metadata": {
        "id": "oQEw7_4htMvw"
      },
      "execution_count": null,
      "outputs": []
    },
    {
      "cell_type": "code",
      "source": [
        "# Run flux balance analysis, FBA (optimization function):\n",
        "\n",
        "solution = model.optimize()\n",
        "print(solution.objective_value)\n",
        "print(solution.fluxes)\n",
        "\n",
        "#If necessary:\n",
        "# check objective\n",
        "#print(model.objective.expression)\n",
        "#print(model.objective.direction)\n",
        "\n",
        "# if necessary to change the objective:\n",
        "#model.objective = \"ATPM\" # or any other reaction\n",
        "\n",
        "#If necessary:\n",
        "# Run loopless FBA (parsimonious FBA, pFBA):\n",
        "#pfba_solution = cobra.flux_analysis.pfba(model)\n",
        "#pfba_solution"
      ],
      "metadata": {
        "id": "pf-9UByHzQOj"
      },
      "execution_count": null,
      "outputs": []
    },
    {
      "cell_type": "code",
      "source": [
        "# Display fluxes: summary\n",
        "\n",
        "model.summary()"
      ],
      "metadata": {
        "id": "Xe8t-DL8c0WS"
      },
      "execution_count": null,
      "outputs": []
    },
    {
      "cell_type": "code",
      "source": [
        "# Export data (for Escher):\n",
        "\n",
        "import pandas as pd\n",
        "data = solution.fluxes\n",
        "#data = pfba_solution.fluxes\n",
        "data.to_csv('/content/drive/MyDrive/REPLAY - A2C/Altri lavori paralleli/_TALTECH/Modeling/_Model curation/EG only/Rt_IFO0880_EG_curated_v4_fluxes.csv')\n",
        "#data.to_csv('/content/drive/MyDrive/TalTech/modelling/fluxes_curated_beta_v04.csv') # Alina\n"
      ],
      "metadata": {
        "id": "FqtQgYY6meBn"
      },
      "execution_count": 32,
      "outputs": []
    },
    {
      "cell_type": "code",
      "source": [
        "# Other code:\n",
        "\n",
        "model.metabolites.nadh_x.summary()"
      ],
      "metadata": {
        "id": "153j_GcvX0ZM"
      },
      "execution_count": null,
      "outputs": []
    },
    {
      "cell_type": "code",
      "source": [
        "model.metabolites.nadh_m.summary()"
      ],
      "metadata": {
        "id": "RPqLWP4nKEWo"
      },
      "execution_count": null,
      "outputs": []
    },
    {
      "cell_type": "code",
      "source": [
        "model.metabolites.nadh_c.summary()"
      ],
      "metadata": {
        "id": "zhHcJGhCKG0X"
      },
      "execution_count": null,
      "outputs": []
    },
    {
      "cell_type": "code",
      "source": [
        "model.metabolites.nadph_x.summary()\n"
      ],
      "metadata": {
        "id": "G07F4haCKS40"
      },
      "execution_count": null,
      "outputs": []
    },
    {
      "cell_type": "code",
      "source": [
        "model.metabolites.nadph_m.summary()\n"
      ],
      "metadata": {
        "id": "HFuZiWIOKXmt"
      },
      "execution_count": null,
      "outputs": []
    },
    {
      "cell_type": "code",
      "source": [
        "model.metabolites.nadph_c.summary()\n"
      ],
      "metadata": {
        "id": "SUDMK5_nKeeq"
      },
      "execution_count": null,
      "outputs": []
    },
    {
      "cell_type": "code",
      "source": [
        "# TODO:\n",
        "# check cofactors for EG uptake\n",
        "# save ModelSummary\n",
        "# save metabolitesSummary (NADP, NAD)"
      ],
      "metadata": {
        "id": "qTIzhGiYlqdo"
      },
      "execution_count": null,
      "outputs": []
    }
  ]
}
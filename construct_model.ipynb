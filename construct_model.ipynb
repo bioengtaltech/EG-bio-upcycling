{
  "nbformat": 4,
  "nbformat_minor": 0,
  "metadata": {
    "colab": {
      "provenance": []
    },
    "kernelspec": {
      "name": "python3",
      "display_name": "Python 3"
    },
    "language_info": {
      "name": "python"
    }
  },
  "cells": [
    {
      "cell_type": "code",
      "source": [
        "### START FROM HERE\n",
        "from google.colab import drive\n",
        "drive.mount('/content/drive')"
      ],
      "metadata": {
        "id": "j5bBHJtNrSVi"
      },
      "execution_count": null,
      "outputs": []
    },
    {
      "cell_type": "code",
      "source": [
        "# General installation of packages\n",
        "\n",
        "!pip install cobra\n",
        "import cobra\n",
        "from cobra import Model, Reaction, Metabolite\n",
        "\n",
        "# Import model\n",
        "model=cobra.io.read_sbml_model('/content/drive/MyDrive/REPLAY - A2C/Altri lavori paralleli/_TALTECH/Modeling/Rt_IFO0880.xml') # Vittorio\n",
        "#model=cobra.io.read_sbml_model('/content/drive/MyDrive/TalTech/Rt_IFO0880.xml') # Alina\n",
        "model #to check it worked\n",
        "\n",
        "\n",
        "#!pip install escher\n",
        "#import escher\n",
        "#from escher import Builder"
      ],
      "metadata": {
        "id": "qQ_Y2KSjmRzN"
      },
      "execution_count": null,
      "outputs": []
    },
    {
      "cell_type": "code",
      "source": [
        "# Putative ethylene glycol pathway:\n",
        "\n",
        "# ethylene glycol oxidase: ethylene glycol DH\n",
        "# GRE2: RHTO_02276 - 12151 (LALDO3), RHTO_04342 - 11160 (LALDO3), RHTO_03406 - 10497 (LALDO3), RHTO_04716 - 12315 (), RHTO_00738 - 11786 ()\n",
        "# ALD1/ALD6:\n",
        "# YLL056C: RHTO_04070 - 9601 (), RHTO_04071 - 9602 ()\n",
        "\n",
        "# glycolaldehyde oxidase: glycolaldehyde DH\n",
        "# ALDH: RHTO_05835 - 12042 (GCALDD)\n",
        "# ALD3\n",
        "# ALD4\n",
        "# ALD5\n",
        "\n",
        "# glyoxylate reductase:\n",
        "# GOR1: RHTO_05831 - 12051 (GLYCLTDxm)"
      ],
      "metadata": {
        "id": "e14Srv2gYjjj"
      },
      "execution_count": null,
      "outputs": []
    },
    {
      "cell_type": "code",
      "source": [
        "### Add EG as a metabolite\n",
        "\n",
        "# 1. Add EG to the cytosol and the outside of the cell\n",
        "model.add_metabolites([\n",
        "            Metabolite(\n",
        "            'eg_c',\n",
        "            formula='C2H6O2',\n",
        "            name='eg_c',\n",
        "            compartment='c'\n",
        "            ),\n",
        "            Metabolite(\n",
        "            'eg_e',\n",
        "            formula='C2H6O2',\n",
        "            name='eg_e',\n",
        "            compartment='e'   \n",
        "            ),\n",
        "])\n",
        "\n",
        "\n",
        "# 2. Create transport reaction to allow EG to enter the cell (from e to c)\n",
        "eg_e=model.metabolites.get_by_id('eg_e')\n",
        "eg_c=model.metabolites.get_by_id('eg_c')\n",
        "\n",
        "EGt = Reaction('T_eg')\n",
        "EGt.name = 'EG transport'\n",
        "EGt.subsystem = 'EG Oxydation Pathway'\n",
        "EGt.lower_bound = -999999\n",
        "EGt.upper_bound = 999999\n",
        "\n",
        "EGt.add_metabolites({\n",
        "                eg_e: -1.0,\n",
        "                eg_c: 1.0\n",
        "})\n",
        "\n",
        "model.add_reactions([EGt])\n",
        "#model.reactions.get_by_id(\"T_eg\") # check\n",
        "\n",
        "\n",
        "# 3. Create exchange reaction to allow EG to enter the cell\n",
        "EX_eg_e = Reaction('EX_eg_e')\n",
        "EX_eg_e.name = 'EG exchange'\n",
        "EX_eg_e.subsystem = 'EG Oxydation Pathway'\n",
        "EX_eg_e.lower_bound = -999999\n",
        "EX_eg_e.upper_bound = 999999\n",
        "\n",
        "EX_eg_e.add_metabolites({\n",
        "                eg_e: -1.0,\n",
        "})\n",
        "\n",
        "model.add_reactions([EX_eg_e])\n",
        "#model.reactions.get_by_id(\"EX_eg_e\") # check\n",
        "\n",
        "# set bounds for EG exchange\n",
        "#model.add_boundary(model.metabolites.get_by_id('eg_e'), type=\"exchange\")\n",
        "\n",
        "# check if it has been created (and the name); rxn are added at the bottom\n",
        "#model.exchanges\n"
      ],
      "metadata": {
        "id": "obyepV8zro0j"
      },
      "execution_count": null,
      "outputs": []
    },
    {
      "cell_type": "code",
      "source": [
        "### Create the new reactions for EG consumption\n",
        "\n",
        "\n",
        "## 1. EG oxidation to GAH (NAD+) - homologue to YLL056C (Sc)\n",
        "eg_ox_nad = Reaction('EG_ox_nad')\n",
        "eg_ox_nad.name = 'EG - NAD-dependent alcohol dehydrogenase'\n",
        "eg_ox_nad.subsystem = 'EG Oxydation Pathway'\n",
        "eg_ox_nad.lower_bound = -999999\n",
        "eg_ox_nad.upper_bound = 999999\n",
        "\n",
        "## 2. EG oxidation to GAH (NADP+) - homologue to GRE2 (Sc)\n",
        "eg_ox_nadp = Reaction('EG_ox_nadp')\n",
        "eg_ox_nadp.name = 'EG - NADP-dependent alcohol dehydrogenase'\n",
        "eg_ox_nadp.subsystem = 'EG Oxydation Pathway'\n",
        "eg_ox_nadp.lower_bound = -999999\n",
        "eg_ox_nadp.upper_bound = 999999\n",
        "\n",
        "## 3. Get the metabolites involved in the reactions\n",
        "eg_c=model.metabolites.get_by_id(\"eg_c\")        # get EG\n",
        "nad_c=model.metabolites.get_by_id(\"nad_c\")      # get NAD+\n",
        "nadh_c=model.metabolites.get_by_id(\"nadh_c\")    # get NADH\n",
        "h_c=model.metabolites.get_by_id(\"h_c\")          # get a proton\n",
        "nadp_c=model.metabolites.get_by_id(\"nad_c\")     # get NADP+\n",
        "nadph_c=model.metabolites.get_by_id(\"nadh_c\")   # get NADPH\n",
        "gah_c=model.metabolites.get_by_id('gcald_c')    # get GAH\n",
        "\n",
        "## 4. Add metabolites to reactions and change bounds\n",
        "\n",
        "# 4a. NAD+ dependent\n",
        "eg_ox_nad.add_metabolites({\n",
        "              eg_c: -1.0,\n",
        "              nad_c: -1.0,\n",
        "              gah_c: 1.0,\n",
        "              nadh_c: 1.0,\n",
        "              h_c: 1.0,\n",
        "})\n",
        "\n",
        "#eg_ox_nad.reaction  # to check\n",
        "\n",
        "# change bounds\n",
        "eg_ox_nad.lower_bound = 0\n",
        "\n",
        "\n",
        "\n",
        "# 4b. NADP+ dependent\n",
        "eg_ox_nadp.add_metabolites({\n",
        "              eg_c: -1.0,\n",
        "              nadp_c: -1.0,\n",
        "              gah_c: 1.0,\n",
        "              nadph_c: 1.0,\n",
        "              h_c: 1.0,\n",
        "})\n",
        "\n",
        "#eg_ox_nadp.reaction  # to check\n",
        "\n",
        "# change bounds\n",
        "eg_ox_nadp.lower_bound = 0\n",
        "\n",
        "\n",
        "## 5. Add reactions to model\n",
        "model.add_reactions([eg_ox_nad])\n",
        "model.add_reactions([eg_ox_nadp])\n"
      ],
      "metadata": {
        "id": "FPI5lb6CVktK"
      },
      "execution_count": null,
      "outputs": []
    },
    {
      "cell_type": "code",
      "source": [
        "### Change bounds for the reactions GA <-> GOX\n",
        "\n",
        "# 1. Glyoxylate reductase (NAD), mitochondrial\n",
        "ga_ox_mit=model.reactions.get_by_id('GLYCLTDxm')\n",
        "ga_ox_mit.bounds = (-1000, 1000)\n",
        "#ga_ox_mit # to check\n",
        "\n",
        "# 2. Glyoxylate reductase (NADP), cytosol\n",
        "ga_ox_c=model.reactions.get_by_id('GLYCLTDy')\n",
        "ga_ox_c.bounds = (-1000, 1000)\n",
        "#ga_ox_c # to check\n",
        "\n",
        "\n",
        "\n",
        "### Allow glycolate accumulation\n",
        "# constraint glycolate\n",
        "EX_glyclt_e=model.reactions.get_by_id('EX_glyclt_e')\n",
        "EX_glyclt_e.upper_bound=0.1\n",
        "EX_glyclt_e.lower_bound=0.1\n",
        "EX_glyclt_e"
      ],
      "metadata": {
        "id": "yjCb3otKV7pv"
      },
      "execution_count": null,
      "outputs": []
    },
    {
      "cell_type": "code",
      "source": [
        "# Save model:\n",
        "# json: escher maps\n",
        "# xml\n",
        "# mat\n",
        "\n",
        "### CHECK THE NAME OF THE FILES EVERY TIME!!! ###\n",
        "\n",
        "cobra.io.json.save_json_model(model,'/content/drive/MyDrive/REPLAY - A2C/Altri lavori paralleli/_TALTECH/Modeling/EG02_Glc_results/Rt_IFO0880_EG_NADP.json')\n",
        "cobra.io.save_matlab_model(model,'/content/drive/MyDrive/REPLAY - A2C/Altri lavori paralleli/_TALTECH/Modeling/EG02_Glc_results/Rt_IFO0880_EG_NADP.mat')\n",
        "cobra.io.write_sbml_model(model,'/content/drive/MyDrive/REPLAY - A2C/Altri lavori paralleli/_TALTECH/Modeling/EG02_Glc_results/Rt_IFO0880_EG_NADP.xml')\n",
        "#cobra.io.json.save_json_model(model,'/content/drive/MyDrive/TalTech/Rt_IFO0880_EG.json') # Alina\n",
        "#cobra.io.save_matlab_model(model,'/content/drive/MyDrive/TalTech/Rt_IFO0880_EG.mat') # Alina\n",
        "#cobra.io.write_sbml_model(model,'/content/drive/MyDrive/TalTech/Rt_IFO0880_EG.xml') # Alina\n"
      ],
      "metadata": {
        "id": "fZjtq_64dqSl"
      },
      "execution_count": null,
      "outputs": []
    },
    {
      "cell_type": "code",
      "source": [
        "# Simulations:\n",
        "\n",
        "# check objective\n",
        "print(model.objective.expression)\n",
        "print(model.objective.direction)\n",
        "\n",
        "# if necessary to change the objective:\n",
        "#model.objective = \"ATPM\" # or any other reaction"
      ],
      "metadata": {
        "id": "KsVsTP_60eHu"
      },
      "execution_count": null,
      "outputs": []
    },
    {
      "cell_type": "code",
      "source": [
        "### Setting the parameters for the simulation (e.g. medium)\n",
        "\n",
        "# set glucose uptake to 0\n",
        "medium = model.medium\n",
        "medium[\"EX_glc__D_e\"] = 0.0\n",
        "model.medium = medium\n",
        "\n",
        "# set EG uptake to 1\n",
        "medium = model.medium\n",
        "medium[\"EX_eg_e\"] = 1.0\n",
        "model.medium = medium\n",
        "\n",
        "model.medium    # check it worked"
      ],
      "metadata": {
        "id": "oQEw7_4htMvw"
      },
      "execution_count": null,
      "outputs": []
    },
    {
      "cell_type": "code",
      "source": [
        "# Run flux balance analysis, FBA (optimization function):\n",
        "\n",
        "solution = model.optimize()\n",
        "solution.objective_value\n",
        "#print(solution)"
      ],
      "metadata": {
        "id": "pf-9UByHzQOj"
      },
      "execution_count": null,
      "outputs": []
    },
    {
      "cell_type": "code",
      "source": [
        "# Run alternative FBA:\n",
        "pfba_solution = cobra.flux_analysis.pfba(model)\n",
        "pfba_solution"
      ],
      "metadata": {
        "id": "ex10I-9GeJWP"
      },
      "execution_count": null,
      "outputs": []
    },
    {
      "cell_type": "code",
      "source": [
        "solution.fluxes"
      ],
      "metadata": {
        "id": "AXYXlQbB15Gu"
      },
      "execution_count": null,
      "outputs": []
    },
    {
      "cell_type": "code",
      "source": [
        "cobra.flux_analysis"
      ],
      "metadata": {
        "id": "Xe8t-DL8c0WS"
      },
      "execution_count": null,
      "outputs": []
    },
    {
      "cell_type": "code",
      "source": [
        "# Export data (for Excher):\n",
        "\n",
        "import pandas as pd\n",
        "data = solution.fluxes\n",
        "#data = pfba_solution.fluxes\n",
        "data.to_csv('/content/drive/MyDrive/REPLAY - A2C/Altri lavori paralleli/_TALTECH/Modeling/EG02_Glc_results/Rt_IFO0880_EG_and_Glc._fluxes.csv')\n",
        "#data.to_csv('/content/drive/MyDrive/TalTech/Rt_IFO0880_EG__NADP.csv') # Alina"
      ],
      "metadata": {
        "id": "iEUMulCxXH5G"
      },
      "execution_count": null,
      "outputs": []
    },
    {
      "cell_type": "code",
      "source": [
        "# Other code:\n",
        "\n",
        "model.metabolites.nadh_x.summary()\n",
        "# model.summary()"
      ],
      "metadata": {
        "id": "153j_GcvX0ZM"
      },
      "execution_count": null,
      "outputs": []
    },
    {
      "cell_type": "code",
      "source": [
        "model.metabolites.nadh_m.summary()"
      ],
      "metadata": {
        "id": "RPqLWP4nKEWo"
      },
      "execution_count": null,
      "outputs": []
    },
    {
      "cell_type": "code",
      "source": [
        "model.metabolites.nadh_c.summary()"
      ],
      "metadata": {
        "id": "zhHcJGhCKG0X"
      },
      "execution_count": null,
      "outputs": []
    },
    {
      "cell_type": "code",
      "source": [
        "model.metabolites.nadph_x.summary()\n"
      ],
      "metadata": {
        "id": "G07F4haCKS40"
      },
      "execution_count": null,
      "outputs": []
    },
    {
      "cell_type": "code",
      "source": [
        "model.metabolites.nadph_m.summary()\n"
      ],
      "metadata": {
        "id": "HFuZiWIOKXmt"
      },
      "execution_count": null,
      "outputs": []
    },
    {
      "cell_type": "code",
      "source": [
        "model.metabolites.nadph_c.summary()\n"
      ],
      "metadata": {
        "id": "SUDMK5_nKeeq"
      },
      "execution_count": null,
      "outputs": []
    }
  ]
}
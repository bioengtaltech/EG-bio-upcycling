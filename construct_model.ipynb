{
  "nbformat": 4,
  "nbformat_minor": 0,
  "metadata": {
    "colab": {
      "provenance": []
    },
    "kernelspec": {
      "name": "python3",
      "display_name": "Python 3"
    },
    "language_info": {
      "name": "python"
    }
  },
  "cells": [
    {
      "cell_type": "code",
      "source": [
        "### START FROM HERE\n",
        "from google.colab import drive\n",
        "drive.mount('/content/drive')"
      ],
      "metadata": {
        "id": "j5bBHJtNrSVi",
        "colab": {
          "base_uri": "https://localhost:8080/"
        },
        "outputId": "677210d0-bf74-4a99-9148-27e156ecee7c"
      },
      "execution_count": null,
      "outputs": [
        {
          "output_type": "stream",
          "name": "stdout",
          "text": [
            "Mounted at /content/drive\n"
          ]
        }
      ]
    },
    {
      "cell_type": "code",
      "source": [
        "# General installation of packages\n",
        "\n",
        "!pip install cobra\n",
        "import cobra\n",
        "from cobra import Model, Reaction, Metabolite\n",
        "\n",
        "# Import model\n",
        "model=cobra.io.read_sbml_model('/content/drive/MyDrive/REPLAY - A2C/Altri lavori paralleli/_TALTECH/Modeling/Rt_IFO0880.xml')\n",
        "model #to check it worked\n",
        "\n",
        "\n",
        "#!pip install escher\n",
        "#import escher\n",
        "#from escher import Builder"
      ],
      "metadata": {
        "id": "qQ_Y2KSjmRzN"
      },
      "execution_count": null,
      "outputs": []
    },
    {
      "cell_type": "code",
      "source": [
        "# Putative ethylene glycol pathway:\n",
        "\n",
        "# ethylene glycol oxidase: ethylene glycol DH\n",
        "# GRE2: RHTO_02276 - 12151 (LALDO3), RHTO_04342 - 11160 (LALDO3), RHTO_03406 - 10497 (LALDO3), RHTO_04716 - 12315 (), RHTO_00738 - 11786 ()\n",
        "# ALD1/ALD6:\n",
        "# YLL056C: RHTO_04070 - 9601 (), RHTO_04071 - 9602 ()\n",
        "\n",
        "# glycolaldehyde oxidase: glycolaldehyde DH\n",
        "# ALDH: RHTO_05835 - 12042 (GCALDD)\n",
        "# ALD3\n",
        "# ALD4\n",
        "# ALD5\n",
        "\n",
        "# glyoxylate reductase:\n",
        "# GOR1: RHTO_05831 - 12051 (GLYCLTDxm)"
      ],
      "metadata": {
        "id": "e14Srv2gYjjj"
      },
      "execution_count": null,
      "outputs": []
    },
    {
      "cell_type": "code",
      "source": [
        "### Add EG as a metabolite\n",
        "\n",
        "# 1. Add EG to the cytosol and the outside of the cell\n",
        "model.add_metabolites([\n",
        "            Metabolite(\n",
        "            'eg_c',\n",
        "            formula='C2H6O2',\n",
        "            name='eg_c',\n",
        "            compartment='c'\n",
        "            ),\n",
        "            Metabolite(\n",
        "            'eg_e',\n",
        "            formula='C2H6O2',\n",
        "            name='eg_e',\n",
        "            compartment='e'   \n",
        "            ),\n",
        "])\n",
        "\n",
        "\n",
        "# 2. Create transport reaction to allow EG to enter the cell (from e to c)\n",
        "eg_e=model.metabolites.get_by_id('eg_e')\n",
        "eg_c=model.metabolites.get_by_id('eg_c')\n",
        "\n",
        "EGt = Reaction('T_eg')\n",
        "EGt.name = 'EG transport'\n",
        "EGt.subsystem = 'EG Oxydation Pathway'\n",
        "EGt.lower_bound = -999999\n",
        "EGt.upper_bound = 999999\n",
        "\n",
        "EGt.add_metabolites({\n",
        "                eg_e: -1.0,\n",
        "                eg_c: 1.0\n",
        "})\n",
        "\n",
        "model.add_reactions([EGt])\n",
        "#model.reactions.get_by_id(\"T_eg\") # check\n",
        "\n",
        "\n",
        "# 3. Create exchange reaction to allow EG to enter the cell\n",
        "EX_eg_e = Reaction('EX_eg_e')\n",
        "EX_eg_e.name = 'EG exchange'\n",
        "EX_eg_e.subsystem = 'EG Oxydation Pathway'\n",
        "EX_eg_e.lower_bound = -999999\n",
        "EX_eg_e.upper_bound = 999999\n",
        "\n",
        "EX_eg_e.add_metabolites({\n",
        "                eg_e: -1.0,\n",
        "})\n",
        "\n",
        "model.add_reactions([EX_eg_e])\n",
        "#model.reactions.get_by_id(\"EX_eg_e\") # check\n",
        "\n",
        "# set bounds for EG exchange\n",
        "#model.add_boundary(model.metabolites.get_by_id('eg_e'), type=\"exchange\")\n",
        "\n",
        "# check if it has been created (and the name); rxn are added at the bottom\n",
        "#model.exchanges\n"
      ],
      "metadata": {
        "id": "obyepV8zro0j",
        "colab": {
          "base_uri": "https://localhost:8080/",
          "height": 273
        },
        "outputId": "7420efdc-ffb1-4463-8232-cf2aa82d1379"
      },
      "execution_count": null,
      "outputs": [
        {
          "output_type": "stream",
          "name": "stderr",
          "text": [
            "WARNING:cobra.core.model:Ignoring reaction 'T_eg' since it already exists.\n",
            "WARNING:cobra.core.model:Ignoring reaction 'EX_eg_e' since it already exists.\n",
            "WARNING:cobra.core.model:Ignoring reaction 'EG_ox_nad' since it already exists.\n",
            "WARNING:cobra.core.model:Ignoring reaction 'EG_ox_nadp' since it already exists.\n"
          ]
        },
        {
          "output_type": "execute_result",
          "data": {
            "text/plain": [
              "<Reaction EX_glyclt_e at 0x7f8e99e07cd0>"
            ],
            "text/html": [
              "\n",
              "        <table>\n",
              "            <tr>\n",
              "                <td><strong>Reaction identifier</strong></td><td>EX_glyclt_e</td>\n",
              "            </tr><tr>\n",
              "                <td><strong>Name</strong></td><td>Glycolate exchange</td>\n",
              "            </tr><tr>\n",
              "                <td><strong>Memory address</strong></td>\n",
              "                <td>0x7f8e99e07cd0</td>\n",
              "            </tr><tr>\n",
              "                <td><strong>Stoichiometry</strong></td>\n",
              "                <td>\n",
              "                    <p style='text-align:right'>glyclt_e --></p>\n",
              "                    <p style='text-align:right'>Glycolate C2H3O3 --></p>\n",
              "                </td>\n",
              "            </tr><tr>\n",
              "                <td><strong>GPR</strong></td><td></td>\n",
              "            </tr><tr>\n",
              "                <td><strong>Lower bound</strong></td><td>0.1</td>\n",
              "            </tr><tr>\n",
              "                <td><strong>Upper bound</strong></td><td>0.1</td>\n",
              "            </tr>\n",
              "        </table>\n",
              "        "
            ]
          },
          "metadata": {},
          "execution_count": 10
        }
      ]
    },
    {
      "cell_type": "code",
      "source": [
        "### Create the new reactions for EG consumption\n",
        "\n",
        "\n",
        "## 1. EG oxidation to GAH (NAD+) - homologue to YLL056C (Sc)\n",
        "eg_ox_nad = Reaction('EG_ox_nad')\n",
        "eg_ox_nad.name = 'EG - NAD-dependent alcohol dehydrogenase'\n",
        "eg_ox_nad.subsystem = 'EG Oxydation Pathway'\n",
        "eg_ox_nad.lower_bound = -999999\n",
        "eg_ox_nad.upper_bound = 999999\n",
        "\n",
        "## 2. EG oxidation to GAH (NADP+) - homologue to GRE2 (Sc)\n",
        "eg_ox_nadp = Reaction('EG_ox_nadp')\n",
        "eg_ox_nadp.name = 'EG - NADP-dependent alcohol dehydrogenase'\n",
        "eg_ox_nadp.subsystem = 'EG Oxydation Pathway'\n",
        "eg_ox_nadp.lower_bound = -999999\n",
        "eg_ox_nadp.upper_bound = 999999\n",
        "\n",
        "## 3. Get the metabolites involved in the reactions\n",
        "eg_c=model.metabolites.get_by_id(\"eg_c\")        # get EG\n",
        "nad_c=model.metabolites.get_by_id(\"nad_c\")      # get NAD+\n",
        "nadh_c=model.metabolites.get_by_id(\"nadh_c\")    # get NADH\n",
        "h_c=model.metabolites.get_by_id(\"h_c\")          # get a proton\n",
        "nadp_c=model.metabolites.get_by_id(\"nad_c\")     # get NADP+\n",
        "nadph_c=model.metabolites.get_by_id(\"nadh_c\")   # get NADPH\n",
        "gah_c=model.metabolites.get_by_id('gcald_c')    # get GAH\n",
        "\n",
        "## 4. Add metabolites to reactions and change bounds\n",
        "\n",
        "# 4a. NAD+ dependent\n",
        "eg_ox_nad.add_metabolites({\n",
        "              eg_c: -1.0,\n",
        "              nad_c: -1.0,\n",
        "              gah_c: 1.0,\n",
        "              nadh_c: 1.0,\n",
        "              h_c: 1.0,\n",
        "})\n",
        "\n",
        "#eg_ox_nad.reaction  # to check\n",
        "\n",
        "# change bounds\n",
        "eg_ox_nad.lower_bound = 0\n",
        "\n",
        "\n",
        "\n",
        "# 4b. NADP+ dependent\n",
        "eg_ox_nadp.add_metabolites({\n",
        "              eg_c: -1.0,\n",
        "              nadp_c: -1.0,\n",
        "              gah_c: 1.0,\n",
        "              nadph_c: 1.0,\n",
        "              h_c: 1.0,\n",
        "})\n",
        "\n",
        "#eg_ox_nadp.reaction  # to check\n",
        "\n",
        "# change bounds\n",
        "eg_ox_nadp.lower_bound = 0\n",
        "\n",
        "\n",
        "## 5. Add reactions to model\n",
        "model.add_reactions([eg_ox_nad])\n",
        "model.add_reactions([eg_ox_nadp])\n"
      ],
      "metadata": {
        "id": "FPI5lb6CVktK"
      },
      "execution_count": null,
      "outputs": []
    },
    {
      "cell_type": "code",
      "source": [
        "### CHange bounds for the reactions GA <-> GOX\n",
        "\n",
        "# 1. Glyoxylate reductase (NAD), mitochondrial\n",
        "ga_ox_mit=model.reactions.get_by_id('GLYCLTDxm')\n",
        "ga_ox_mit.bounds = (-1000, 1000)\n",
        "#ga_ox_mit # to check\n",
        "\n",
        "# 2. Glyoxylate reductase (NADP), cytosol\n",
        "ga_ox_c=model.reactions.get_by_id('GLYCLTDy')\n",
        "ga_ox_c.bounds = (-1000, 1000)\n",
        "#ga_ox_c # to check\n",
        "\n",
        "\n",
        "\n",
        "### Allow glycolate accumulation\n",
        "# constraint glycolate\n",
        "EX_glyclt_e=model.reactions.get_by_id('EX_glyclt_e')\n",
        "EX_glyclt_e.upper_bound=0.1\n",
        "EX_glyclt_e.lower_bound=0.1\n",
        "EX_glyclt_e"
      ],
      "metadata": {
        "id": "yjCb3otKV7pv"
      },
      "execution_count": null,
      "outputs": []
    },
    {
      "cell_type": "code",
      "source": [
        "# check objective\n",
        "print(model.objective.expression)\n",
        "print(model.objective.direction)\n",
        "\n",
        "# if necessary to change the objective:\n",
        "#model.objective = \"ATPM\" # or any other reaction"
      ],
      "metadata": {
        "colab": {
          "base_uri": "https://localhost:8080/"
        },
        "id": "KsVsTP_60eHu",
        "outputId": "b90953bf-d8ce-45e5-b7ab-3b2e15243943"
      },
      "execution_count": null,
      "outputs": [
        {
          "output_type": "stream",
          "name": "stdout",
          "text": [
            "1.0*BIOMASS_RT - 1.0*BIOMASS_RT_reverse_2b3e0\n",
            "max\n"
          ]
        }
      ]
    },
    {
      "cell_type": "code",
      "source": [
        "### Setting the parameters for the simulation (e.g. medium)\n",
        "\n",
        "\n",
        "# set glucose uptake to 0\n",
        "medium = model.medium\n",
        "medium[\"EX_glc__D_e\"] = 0.0\n",
        "model.medium = medium\n",
        "\n",
        "# set EG uptake to 1\n",
        "medium = model.medium\n",
        "medium[\"EX_eg_e\"] = 1.0\n",
        "model.medium = medium\n",
        "\n",
        "model.medium    # check it worked"
      ],
      "metadata": {
        "id": "oQEw7_4htMvw",
        "colab": {
          "base_uri": "https://localhost:8080/"
        },
        "outputId": "61df9ba2-40f1-4af4-9976-cb6455913d5a"
      },
      "execution_count": null,
      "outputs": [
        {
          "output_type": "execute_result",
          "data": {
            "text/plain": [
              "{'EX_h_e': 999999.0,\n",
              " 'EX_h2o_e': 999999.0,\n",
              " 'EX_nh4_e': 999999.0,\n",
              " 'EX_o2_e': 999999.0,\n",
              " 'EX_pi_e': 999999.0,\n",
              " 'EX_so4_e': 999999.0,\n",
              " 'EX_ca2_e': 999999.0,\n",
              " 'EX_fe2_e': 999999.0,\n",
              " 'EX_fe3_e': 999999.0,\n",
              " 'EX_k_e': 999999.0,\n",
              " 'EX_na1_e': 999999.0,\n",
              " 'EX_mg2_e': 999999.0,\n",
              " 'EX_mn2_e': 999999.0,\n",
              " 'EX_cu2_e': 999999.0,\n",
              " 'EX_zn2_e': 999999.0,\n",
              " 'EX_eg_e': 1.0}"
            ]
          },
          "metadata": {},
          "execution_count": 11
        }
      ]
    },
    {
      "cell_type": "code",
      "source": [
        "solution = model.optimize()\n",
        "solution.objective_value\n",
        "#print(solution)"
      ],
      "metadata": {
        "colab": {
          "base_uri": "https://localhost:8080/"
        },
        "id": "pf-9UByHzQOj",
        "outputId": "ac7d791f-c529-47bb-87c7-8478a1c678ea"
      },
      "execution_count": null,
      "outputs": [
        {
          "output_type": "execute_result",
          "data": {
            "text/plain": [
              "0.01796615383204062"
            ]
          },
          "metadata": {},
          "execution_count": 12
        }
      ]
    },
    {
      "cell_type": "code",
      "source": [
        "# VITTORIO - save model and export data\n",
        "\n",
        "### CHECK THE NAME OF THE FILES EVERY TIME!!! ###\n",
        "\n",
        "\n",
        "cobra.io.json.save_json_model(model,'/content/drive/MyDrive/REPLAY - A2C/Altri lavori paralleli/_TALTECH/Modeling/EG02_Glc_results/Rt_IFO0880_EG_NADP.json')\n",
        "cobra.io.save_matlab_model(model,'/content/drive/MyDrive/REPLAY - A2C/Altri lavori paralleli/_TALTECH/Modeling/EG02_Glc_results/Rt_IFO0880_EG_NADP.mat')\n",
        "cobra.io.write_sbml_model(model,'/content/drive/MyDrive/REPLAY - A2C/Altri lavori paralleli/_TALTECH/Modeling/EG02_Glc_results/Rt_IFO0880_EG_NADP.xml')\n",
        "\n",
        "# Get fluxes for Escher\n",
        "import pandas as pd\n",
        "data = solution.fluxes\n",
        "data.to_csv('/content/drive/MyDrive/REPLAY - A2C/Altri lavori paralleli/_TALTECH/Modeling/EG02_Glc_results/Rt_IFO0880_EG__NADP.csv')"
      ],
      "metadata": {
        "id": "IK1I5NtnZ5VI"
      },
      "execution_count": null,
      "outputs": []
    },
    {
      "cell_type": "code",
      "source": [
        "# Save model (Alina):\n",
        "# json: escher maps\n",
        "# xml\n",
        "# mat\n",
        "\n",
        "cobra.io.json.save_json_model(model,'/content/drive/MyDrive/TalTech/Rt_IFO0880_EG.json')\n",
        "cobra.io.save_matlab_model(model,'/content/drive/MyDrive/TalTech/Rt_IFO0880_EG.mat')\n",
        "cobra.io.write_sbml_model(model,'/content/drive/MyDrive/TalTech/Rt_IFO0880_EG.xml')"
      ],
      "metadata": {
        "id": "xutCwjIp99WI"
      },
      "execution_count": null,
      "outputs": []
    },
    {
      "cell_type": "code",
      "source": [
        "pfba_solution = cobra.flux_analysis.pfba(model)\n",
        "pfba_solution"
      ],
      "metadata": {
        "id": "P99lKcoEjdTR"
      },
      "execution_count": null,
      "outputs": []
    },
    {
      "cell_type": "code",
      "source": [
        "pfba_solution.fluxes"
      ],
      "metadata": {
        "id": "z1x2LsFQj5Os"
      },
      "execution_count": null,
      "outputs": []
    },
    {
      "cell_type": "code",
      "source": [
        "solution.fluxes"
      ],
      "metadata": {
        "id": "AXYXlQbB15Gu"
      },
      "execution_count": null,
      "outputs": []
    },
    {
      "cell_type": "code",
      "source": [
        "model.summary()"
      ],
      "metadata": {
        "id": "XcBZXa0WeKMT"
      },
      "execution_count": null,
      "outputs": []
    },
    {
      "cell_type": "code",
      "source": [
        "cobra.flux_analysis"
      ],
      "metadata": {
        "id": "Xe8t-DL8c0WS"
      },
      "execution_count": null,
      "outputs": []
    },
    {
      "cell_type": "code",
      "source": [
        "# print fluxes with pandas\n",
        "\n",
        "import pandas as pd\n",
        "data = solution.fluxes\n",
        "data.to_csv('/content/drive/MyDrive/REPLAY - A2C/Altri lavori paralleli/_TALTECH/Modeling/EG02_Glc_results/Rt_IFO0880_EG_and_Glc._fluxes.csv')"
      ],
      "metadata": {
        "id": "iEUMulCxXH5G"
      },
      "execution_count": null,
      "outputs": []
    },
    {
      "cell_type": "code",
      "source": [
        "# print fluxes with pandas\n",
        "\n",
        "import pandas as pd\n",
        "data = pfba_solution.fluxes\n",
        "data.to_csv('/content/drive/MyDrive/REPLAY - A2C/Altri lavori paralleli/_TALTECH/Modeling/EG02_Glc_results/Rt_IFO0880_EG_and_Glc._pfba_fluxes.csv')"
      ],
      "metadata": {
        "id": "j1FOmBDhXK_U"
      },
      "execution_count": null,
      "outputs": []
    },
    {
      "cell_type": "code",
      "source": [
        "# Other code:\n",
        "\n",
        "model.metabolites.nadh_x.summary()\n",
        "# model.summary()"
      ],
      "metadata": {
        "id": "153j_GcvX0ZM"
      },
      "execution_count": null,
      "outputs": []
    },
    {
      "cell_type": "code",
      "source": [
        "model.metabolites.nadh_m.summary()"
      ],
      "metadata": {
        "id": "RPqLWP4nKEWo"
      },
      "execution_count": null,
      "outputs": []
    },
    {
      "cell_type": "code",
      "source": [
        "model.metabolites.nadh_c.summary()"
      ],
      "metadata": {
        "id": "zhHcJGhCKG0X"
      },
      "execution_count": null,
      "outputs": []
    },
    {
      "cell_type": "code",
      "source": [
        "model.metabolites.nadph_x.summary()\n"
      ],
      "metadata": {
        "id": "G07F4haCKS40"
      },
      "execution_count": null,
      "outputs": []
    },
    {
      "cell_type": "code",
      "source": [
        "model.metabolites.nadph_m.summary()\n"
      ],
      "metadata": {
        "id": "HFuZiWIOKXmt"
      },
      "execution_count": null,
      "outputs": []
    },
    {
      "cell_type": "code",
      "source": [
        "model.metabolites.nadph_c.summary()\n"
      ],
      "metadata": {
        "id": "SUDMK5_nKeeq"
      },
      "execution_count": null,
      "outputs": []
    }
  ]
}